{
 "cells": [
  {
   "cell_type": "markdown",
   "metadata": {},
   "source": [
    "# sklearn.linear_model.SGDClassifier"
   ]
  },
  {
   "cell_type": "code",
   "execution_count": 21,
   "metadata": {},
   "outputs": [
    {
     "name": "stdout",
     "output_type": "stream",
     "text": [
      "Collecting en-core-web-sm==3.7.1\n",
      "  Using cached https://github.com/explosion/spacy-models/releases/download/en_core_web_sm-3.7.1/en_core_web_sm-3.7.1-py3-none-any.whl (12.8 MB)\n",
      "Requirement already satisfied: spacy<3.8.0,>=3.7.2 in /usr/local/lib/python3.11/site-packages (from en-core-web-sm==3.7.1) (3.7.2)\n",
      "Requirement already satisfied: spacy-legacy<3.1.0,>=3.0.11 in /usr/local/lib/python3.11/site-packages (from spacy<3.8.0,>=3.7.2->en-core-web-sm==3.7.1) (3.0.12)\n",
      "Requirement already satisfied: spacy-loggers<2.0.0,>=1.0.0 in /usr/local/lib/python3.11/site-packages (from spacy<3.8.0,>=3.7.2->en-core-web-sm==3.7.1) (1.0.5)\n",
      "Requirement already satisfied: murmurhash<1.1.0,>=0.28.0 in /usr/local/lib/python3.11/site-packages (from spacy<3.8.0,>=3.7.2->en-core-web-sm==3.7.1) (1.0.10)\n",
      "Requirement already satisfied: cymem<2.1.0,>=2.0.2 in /usr/local/lib/python3.11/site-packages (from spacy<3.8.0,>=3.7.2->en-core-web-sm==3.7.1) (2.0.8)\n",
      "Requirement already satisfied: preshed<3.1.0,>=3.0.2 in /usr/local/lib/python3.11/site-packages (from spacy<3.8.0,>=3.7.2->en-core-web-sm==3.7.1) (3.0.9)\n",
      "Requirement already satisfied: thinc<8.3.0,>=8.1.8 in /usr/local/lib/python3.11/site-packages (from spacy<3.8.0,>=3.7.2->en-core-web-sm==3.7.1) (8.2.1)\n",
      "Requirement already satisfied: wasabi<1.2.0,>=0.9.1 in /usr/local/lib/python3.11/site-packages (from spacy<3.8.0,>=3.7.2->en-core-web-sm==3.7.1) (1.1.2)\n",
      "Requirement already satisfied: srsly<3.0.0,>=2.4.3 in /usr/local/lib/python3.11/site-packages (from spacy<3.8.0,>=3.7.2->en-core-web-sm==3.7.1) (2.4.8)\n",
      "Requirement already satisfied: catalogue<2.1.0,>=2.0.6 in /usr/local/lib/python3.11/site-packages (from spacy<3.8.0,>=3.7.2->en-core-web-sm==3.7.1) (2.0.10)\n",
      "Requirement already satisfied: weasel<0.4.0,>=0.1.0 in /usr/local/lib/python3.11/site-packages (from spacy<3.8.0,>=3.7.2->en-core-web-sm==3.7.1) (0.3.3)\n",
      "Requirement already satisfied: typer<0.10.0,>=0.3.0 in /usr/local/lib/python3.11/site-packages (from spacy<3.8.0,>=3.7.2->en-core-web-sm==3.7.1) (0.9.0)\n",
      "Requirement already satisfied: smart-open<7.0.0,>=5.2.1 in /usr/local/lib/python3.11/site-packages (from spacy<3.8.0,>=3.7.2->en-core-web-sm==3.7.1) (6.4.0)\n",
      "Requirement already satisfied: tqdm<5.0.0,>=4.38.0 in /usr/local/lib/python3.11/site-packages (from spacy<3.8.0,>=3.7.2->en-core-web-sm==3.7.1) (4.66.0)\n",
      "Requirement already satisfied: requests<3.0.0,>=2.13.0 in /Users/Michel/Library/Python/3.11/lib/python/site-packages (from spacy<3.8.0,>=3.7.2->en-core-web-sm==3.7.1) (2.31.0)\n",
      "Requirement already satisfied: pydantic!=1.8,!=1.8.1,<3.0.0,>=1.7.4 in /usr/local/lib/python3.11/site-packages (from spacy<3.8.0,>=3.7.2->en-core-web-sm==3.7.1) (2.4.2)\n",
      "Requirement already satisfied: jinja2 in /usr/local/lib/python3.11/site-packages (from spacy<3.8.0,>=3.7.2->en-core-web-sm==3.7.1) (3.1.2)\n",
      "Requirement already satisfied: setuptools in /usr/local/lib/python3.11/site-packages (from spacy<3.8.0,>=3.7.2->en-core-web-sm==3.7.1) (68.2.2)\n",
      "Requirement already satisfied: packaging>=20.0 in /usr/local/lib/python3.11/site-packages (from spacy<3.8.0,>=3.7.2->en-core-web-sm==3.7.1) (23.1)\n",
      "Requirement already satisfied: langcodes<4.0.0,>=3.2.0 in /usr/local/lib/python3.11/site-packages (from spacy<3.8.0,>=3.7.2->en-core-web-sm==3.7.1) (3.3.0)\n",
      "Requirement already satisfied: numpy>=1.19.0 in /usr/local/lib/python3.11/site-packages (from spacy<3.8.0,>=3.7.2->en-core-web-sm==3.7.1) (1.24.4)\n",
      "Requirement already satisfied: annotated-types>=0.4.0 in /usr/local/lib/python3.11/site-packages (from pydantic!=1.8,!=1.8.1,<3.0.0,>=1.7.4->spacy<3.8.0,>=3.7.2->en-core-web-sm==3.7.1) (0.6.0)\n",
      "Requirement already satisfied: pydantic-core==2.10.1 in /usr/local/lib/python3.11/site-packages (from pydantic!=1.8,!=1.8.1,<3.0.0,>=1.7.4->spacy<3.8.0,>=3.7.2->en-core-web-sm==3.7.1) (2.10.1)\n",
      "Requirement already satisfied: typing-extensions>=4.6.1 in /usr/local/lib/python3.11/site-packages (from pydantic!=1.8,!=1.8.1,<3.0.0,>=1.7.4->spacy<3.8.0,>=3.7.2->en-core-web-sm==3.7.1) (4.6.3)\n",
      "Requirement already satisfied: charset-normalizer<4,>=2 in /Users/Michel/Library/Python/3.11/lib/python/site-packages (from requests<3.0.0,>=2.13.0->spacy<3.8.0,>=3.7.2->en-core-web-sm==3.7.1) (3.3.2)\n",
      "Requirement already satisfied: idna<4,>=2.5 in /usr/local/lib/python3.11/site-packages (from requests<3.0.0,>=2.13.0->spacy<3.8.0,>=3.7.2->en-core-web-sm==3.7.1) (2.10)\n",
      "Requirement already satisfied: urllib3<3,>=1.21.1 in /usr/local/lib/python3.11/site-packages (from requests<3.0.0,>=2.13.0->spacy<3.8.0,>=3.7.2->en-core-web-sm==3.7.1) (1.26.16)\n",
      "Requirement already satisfied: certifi>=2017.4.17 in /usr/local/lib/python3.11/site-packages (from requests<3.0.0,>=2.13.0->spacy<3.8.0,>=3.7.2->en-core-web-sm==3.7.1) (2023.7.22)\n",
      "Requirement already satisfied: blis<0.8.0,>=0.7.8 in /usr/local/lib/python3.11/site-packages (from thinc<8.3.0,>=8.1.8->spacy<3.8.0,>=3.7.2->en-core-web-sm==3.7.1) (0.7.11)\n",
      "Requirement already satisfied: confection<1.0.0,>=0.0.1 in /usr/local/lib/python3.11/site-packages (from thinc<8.3.0,>=8.1.8->spacy<3.8.0,>=3.7.2->en-core-web-sm==3.7.1) (0.1.3)\n",
      "Requirement already satisfied: click<9.0.0,>=7.1.1 in /usr/local/lib/python3.11/site-packages (from typer<0.10.0,>=0.3.0->spacy<3.8.0,>=3.7.2->en-core-web-sm==3.7.1) (7.1.1)\n",
      "Requirement already satisfied: cloudpathlib<0.17.0,>=0.7.0 in /usr/local/lib/python3.11/site-packages (from weasel<0.4.0,>=0.1.0->spacy<3.8.0,>=3.7.2->en-core-web-sm==3.7.1) (0.16.0)\n",
      "Requirement already satisfied: MarkupSafe>=2.0 in /usr/local/lib/python3.11/site-packages (from jinja2->spacy<3.8.0,>=3.7.2->en-core-web-sm==3.7.1) (2.1.3)\n",
      "\n",
      "\u001b[1m[\u001b[0m\u001b[34;49mnotice\u001b[0m\u001b[1;39;49m]\u001b[0m\u001b[39;49m A new release of pip is available: \u001b[0m\u001b[31;49m23.3.1\u001b[0m\u001b[39;49m -> \u001b[0m\u001b[32;49m23.3.2\u001b[0m\n",
      "\u001b[1m[\u001b[0m\u001b[34;49mnotice\u001b[0m\u001b[1;39;49m]\u001b[0m\u001b[39;49m To update, run: \u001b[0m\u001b[32;49mpython3.11 -m pip install --upgrade pip\u001b[0m\n",
      "\u001b[38;5;2m✔ Download and installation successful\u001b[0m\n",
      "You can now load the package via spacy.load('en_core_web_sm')\n",
      "Collecting fr-core-news-sm==3.7.0\n",
      "  Using cached https://github.com/explosion/spacy-models/releases/download/fr_core_news_sm-3.7.0/fr_core_news_sm-3.7.0-py3-none-any.whl (16.3 MB)\n",
      "Requirement already satisfied: spacy<3.8.0,>=3.7.0 in /usr/local/lib/python3.11/site-packages (from fr-core-news-sm==3.7.0) (3.7.2)\n",
      "Requirement already satisfied: spacy-legacy<3.1.0,>=3.0.11 in /usr/local/lib/python3.11/site-packages (from spacy<3.8.0,>=3.7.0->fr-core-news-sm==3.7.0) (3.0.12)\n",
      "Requirement already satisfied: spacy-loggers<2.0.0,>=1.0.0 in /usr/local/lib/python3.11/site-packages (from spacy<3.8.0,>=3.7.0->fr-core-news-sm==3.7.0) (1.0.5)\n",
      "Requirement already satisfied: murmurhash<1.1.0,>=0.28.0 in /usr/local/lib/python3.11/site-packages (from spacy<3.8.0,>=3.7.0->fr-core-news-sm==3.7.0) (1.0.10)\n",
      "Requirement already satisfied: cymem<2.1.0,>=2.0.2 in /usr/local/lib/python3.11/site-packages (from spacy<3.8.0,>=3.7.0->fr-core-news-sm==3.7.0) (2.0.8)\n",
      "Requirement already satisfied: preshed<3.1.0,>=3.0.2 in /usr/local/lib/python3.11/site-packages (from spacy<3.8.0,>=3.7.0->fr-core-news-sm==3.7.0) (3.0.9)\n",
      "Requirement already satisfied: thinc<8.3.0,>=8.1.8 in /usr/local/lib/python3.11/site-packages (from spacy<3.8.0,>=3.7.0->fr-core-news-sm==3.7.0) (8.2.1)\n",
      "Requirement already satisfied: wasabi<1.2.0,>=0.9.1 in /usr/local/lib/python3.11/site-packages (from spacy<3.8.0,>=3.7.0->fr-core-news-sm==3.7.0) (1.1.2)\n",
      "Requirement already satisfied: srsly<3.0.0,>=2.4.3 in /usr/local/lib/python3.11/site-packages (from spacy<3.8.0,>=3.7.0->fr-core-news-sm==3.7.0) (2.4.8)\n",
      "Requirement already satisfied: catalogue<2.1.0,>=2.0.6 in /usr/local/lib/python3.11/site-packages (from spacy<3.8.0,>=3.7.0->fr-core-news-sm==3.7.0) (2.0.10)\n",
      "Requirement already satisfied: weasel<0.4.0,>=0.1.0 in /usr/local/lib/python3.11/site-packages (from spacy<3.8.0,>=3.7.0->fr-core-news-sm==3.7.0) (0.3.3)\n",
      "Requirement already satisfied: typer<0.10.0,>=0.3.0 in /usr/local/lib/python3.11/site-packages (from spacy<3.8.0,>=3.7.0->fr-core-news-sm==3.7.0) (0.9.0)\n",
      "Requirement already satisfied: smart-open<7.0.0,>=5.2.1 in /usr/local/lib/python3.11/site-packages (from spacy<3.8.0,>=3.7.0->fr-core-news-sm==3.7.0) (6.4.0)\n",
      "Requirement already satisfied: tqdm<5.0.0,>=4.38.0 in /usr/local/lib/python3.11/site-packages (from spacy<3.8.0,>=3.7.0->fr-core-news-sm==3.7.0) (4.66.0)\n",
      "Requirement already satisfied: requests<3.0.0,>=2.13.0 in /Users/Michel/Library/Python/3.11/lib/python/site-packages (from spacy<3.8.0,>=3.7.0->fr-core-news-sm==3.7.0) (2.31.0)\n",
      "Requirement already satisfied: pydantic!=1.8,!=1.8.1,<3.0.0,>=1.7.4 in /usr/local/lib/python3.11/site-packages (from spacy<3.8.0,>=3.7.0->fr-core-news-sm==3.7.0) (2.4.2)\n",
      "Requirement already satisfied: jinja2 in /usr/local/lib/python3.11/site-packages (from spacy<3.8.0,>=3.7.0->fr-core-news-sm==3.7.0) (3.1.2)\n",
      "Requirement already satisfied: setuptools in /usr/local/lib/python3.11/site-packages (from spacy<3.8.0,>=3.7.0->fr-core-news-sm==3.7.0) (68.2.2)\n",
      "Requirement already satisfied: packaging>=20.0 in /usr/local/lib/python3.11/site-packages (from spacy<3.8.0,>=3.7.0->fr-core-news-sm==3.7.0) (23.1)\n",
      "Requirement already satisfied: langcodes<4.0.0,>=3.2.0 in /usr/local/lib/python3.11/site-packages (from spacy<3.8.0,>=3.7.0->fr-core-news-sm==3.7.0) (3.3.0)\n",
      "Requirement already satisfied: numpy>=1.19.0 in /usr/local/lib/python3.11/site-packages (from spacy<3.8.0,>=3.7.0->fr-core-news-sm==3.7.0) (1.24.4)\n",
      "Requirement already satisfied: annotated-types>=0.4.0 in /usr/local/lib/python3.11/site-packages (from pydantic!=1.8,!=1.8.1,<3.0.0,>=1.7.4->spacy<3.8.0,>=3.7.0->fr-core-news-sm==3.7.0) (0.6.0)\n",
      "Requirement already satisfied: pydantic-core==2.10.1 in /usr/local/lib/python3.11/site-packages (from pydantic!=1.8,!=1.8.1,<3.0.0,>=1.7.4->spacy<3.8.0,>=3.7.0->fr-core-news-sm==3.7.0) (2.10.1)\n",
      "Requirement already satisfied: typing-extensions>=4.6.1 in /usr/local/lib/python3.11/site-packages (from pydantic!=1.8,!=1.8.1,<3.0.0,>=1.7.4->spacy<3.8.0,>=3.7.0->fr-core-news-sm==3.7.0) (4.6.3)\n",
      "Requirement already satisfied: charset-normalizer<4,>=2 in /Users/Michel/Library/Python/3.11/lib/python/site-packages (from requests<3.0.0,>=2.13.0->spacy<3.8.0,>=3.7.0->fr-core-news-sm==3.7.0) (3.3.2)\n",
      "Requirement already satisfied: idna<4,>=2.5 in /usr/local/lib/python3.11/site-packages (from requests<3.0.0,>=2.13.0->spacy<3.8.0,>=3.7.0->fr-core-news-sm==3.7.0) (2.10)\n",
      "Requirement already satisfied: urllib3<3,>=1.21.1 in /usr/local/lib/python3.11/site-packages (from requests<3.0.0,>=2.13.0->spacy<3.8.0,>=3.7.0->fr-core-news-sm==3.7.0) (1.26.16)\n",
      "Requirement already satisfied: certifi>=2017.4.17 in /usr/local/lib/python3.11/site-packages (from requests<3.0.0,>=2.13.0->spacy<3.8.0,>=3.7.0->fr-core-news-sm==3.7.0) (2023.7.22)\n",
      "Requirement already satisfied: blis<0.8.0,>=0.7.8 in /usr/local/lib/python3.11/site-packages (from thinc<8.3.0,>=8.1.8->spacy<3.8.0,>=3.7.0->fr-core-news-sm==3.7.0) (0.7.11)\n",
      "Requirement already satisfied: confection<1.0.0,>=0.0.1 in /usr/local/lib/python3.11/site-packages (from thinc<8.3.0,>=8.1.8->spacy<3.8.0,>=3.7.0->fr-core-news-sm==3.7.0) (0.1.3)\n",
      "Requirement already satisfied: click<9.0.0,>=7.1.1 in /usr/local/lib/python3.11/site-packages (from typer<0.10.0,>=0.3.0->spacy<3.8.0,>=3.7.0->fr-core-news-sm==3.7.0) (7.1.1)\n",
      "Requirement already satisfied: cloudpathlib<0.17.0,>=0.7.0 in /usr/local/lib/python3.11/site-packages (from weasel<0.4.0,>=0.1.0->spacy<3.8.0,>=3.7.0->fr-core-news-sm==3.7.0) (0.16.0)\n",
      "Requirement already satisfied: MarkupSafe>=2.0 in /usr/local/lib/python3.11/site-packages (from jinja2->spacy<3.8.0,>=3.7.0->fr-core-news-sm==3.7.0) (2.1.3)\n",
      "\n",
      "\u001b[1m[\u001b[0m\u001b[34;49mnotice\u001b[0m\u001b[1;39;49m]\u001b[0m\u001b[39;49m A new release of pip is available: \u001b[0m\u001b[31;49m23.3.1\u001b[0m\u001b[39;49m -> \u001b[0m\u001b[32;49m23.3.2\u001b[0m\n",
      "\u001b[1m[\u001b[0m\u001b[34;49mnotice\u001b[0m\u001b[1;39;49m]\u001b[0m\u001b[39;49m To update, run: \u001b[0m\u001b[32;49mpython3.11 -m pip install --upgrade pip\u001b[0m\n",
      "\u001b[38;5;2m✔ Download and installation successful\u001b[0m\n",
      "You can now load the package via spacy.load('fr_core_news_sm')\n",
      "Collecting it-core-news-sm==3.7.0\n",
      "  Downloading https://github.com/explosion/spacy-models/releases/download/it_core_news_sm-3.7.0/it_core_news_sm-3.7.0-py3-none-any.whl (13.0 MB)\n",
      "\u001b[2K     \u001b[90m━━━━━━━━━━━━━━━━━━━━━━━━━━━━━━━━━━━━━━━━\u001b[0m \u001b[32m13.0/13.0 MB\u001b[0m \u001b[31m42.3 MB/s\u001b[0m eta \u001b[36m0:00:00\u001b[0m00:01\u001b[0m00:01\u001b[0m\n",
      "\u001b[?25hRequirement already satisfied: spacy<3.8.0,>=3.7.0 in /usr/local/lib/python3.11/site-packages (from it-core-news-sm==3.7.0) (3.7.2)\n",
      "Requirement already satisfied: spacy-legacy<3.1.0,>=3.0.11 in /usr/local/lib/python3.11/site-packages (from spacy<3.8.0,>=3.7.0->it-core-news-sm==3.7.0) (3.0.12)\n",
      "Requirement already satisfied: spacy-loggers<2.0.0,>=1.0.0 in /usr/local/lib/python3.11/site-packages (from spacy<3.8.0,>=3.7.0->it-core-news-sm==3.7.0) (1.0.5)\n",
      "Requirement already satisfied: murmurhash<1.1.0,>=0.28.0 in /usr/local/lib/python3.11/site-packages (from spacy<3.8.0,>=3.7.0->it-core-news-sm==3.7.0) (1.0.10)\n",
      "Requirement already satisfied: cymem<2.1.0,>=2.0.2 in /usr/local/lib/python3.11/site-packages (from spacy<3.8.0,>=3.7.0->it-core-news-sm==3.7.0) (2.0.8)\n",
      "Requirement already satisfied: preshed<3.1.0,>=3.0.2 in /usr/local/lib/python3.11/site-packages (from spacy<3.8.0,>=3.7.0->it-core-news-sm==3.7.0) (3.0.9)\n",
      "Requirement already satisfied: thinc<8.3.0,>=8.1.8 in /usr/local/lib/python3.11/site-packages (from spacy<3.8.0,>=3.7.0->it-core-news-sm==3.7.0) (8.2.1)\n",
      "Requirement already satisfied: wasabi<1.2.0,>=0.9.1 in /usr/local/lib/python3.11/site-packages (from spacy<3.8.0,>=3.7.0->it-core-news-sm==3.7.0) (1.1.2)\n",
      "Requirement already satisfied: srsly<3.0.0,>=2.4.3 in /usr/local/lib/python3.11/site-packages (from spacy<3.8.0,>=3.7.0->it-core-news-sm==3.7.0) (2.4.8)\n",
      "Requirement already satisfied: catalogue<2.1.0,>=2.0.6 in /usr/local/lib/python3.11/site-packages (from spacy<3.8.0,>=3.7.0->it-core-news-sm==3.7.0) (2.0.10)\n",
      "Requirement already satisfied: weasel<0.4.0,>=0.1.0 in /usr/local/lib/python3.11/site-packages (from spacy<3.8.0,>=3.7.0->it-core-news-sm==3.7.0) (0.3.3)\n",
      "Requirement already satisfied: typer<0.10.0,>=0.3.0 in /usr/local/lib/python3.11/site-packages (from spacy<3.8.0,>=3.7.0->it-core-news-sm==3.7.0) (0.9.0)\n",
      "Requirement already satisfied: smart-open<7.0.0,>=5.2.1 in /usr/local/lib/python3.11/site-packages (from spacy<3.8.0,>=3.7.0->it-core-news-sm==3.7.0) (6.4.0)\n",
      "Requirement already satisfied: tqdm<5.0.0,>=4.38.0 in /usr/local/lib/python3.11/site-packages (from spacy<3.8.0,>=3.7.0->it-core-news-sm==3.7.0) (4.66.0)\n",
      "Requirement already satisfied: requests<3.0.0,>=2.13.0 in /Users/Michel/Library/Python/3.11/lib/python/site-packages (from spacy<3.8.0,>=3.7.0->it-core-news-sm==3.7.0) (2.31.0)\n",
      "Requirement already satisfied: pydantic!=1.8,!=1.8.1,<3.0.0,>=1.7.4 in /usr/local/lib/python3.11/site-packages (from spacy<3.8.0,>=3.7.0->it-core-news-sm==3.7.0) (2.4.2)\n",
      "Requirement already satisfied: jinja2 in /usr/local/lib/python3.11/site-packages (from spacy<3.8.0,>=3.7.0->it-core-news-sm==3.7.0) (3.1.2)\n",
      "Requirement already satisfied: setuptools in /usr/local/lib/python3.11/site-packages (from spacy<3.8.0,>=3.7.0->it-core-news-sm==3.7.0) (68.2.2)\n",
      "Requirement already satisfied: packaging>=20.0 in /usr/local/lib/python3.11/site-packages (from spacy<3.8.0,>=3.7.0->it-core-news-sm==3.7.0) (23.1)\n",
      "Requirement already satisfied: langcodes<4.0.0,>=3.2.0 in /usr/local/lib/python3.11/site-packages (from spacy<3.8.0,>=3.7.0->it-core-news-sm==3.7.0) (3.3.0)\n",
      "Requirement already satisfied: numpy>=1.19.0 in /usr/local/lib/python3.11/site-packages (from spacy<3.8.0,>=3.7.0->it-core-news-sm==3.7.0) (1.24.4)\n",
      "Requirement already satisfied: annotated-types>=0.4.0 in /usr/local/lib/python3.11/site-packages (from pydantic!=1.8,!=1.8.1,<3.0.0,>=1.7.4->spacy<3.8.0,>=3.7.0->it-core-news-sm==3.7.0) (0.6.0)\n",
      "Requirement already satisfied: pydantic-core==2.10.1 in /usr/local/lib/python3.11/site-packages (from pydantic!=1.8,!=1.8.1,<3.0.0,>=1.7.4->spacy<3.8.0,>=3.7.0->it-core-news-sm==3.7.0) (2.10.1)\n",
      "Requirement already satisfied: typing-extensions>=4.6.1 in /usr/local/lib/python3.11/site-packages (from pydantic!=1.8,!=1.8.1,<3.0.0,>=1.7.4->spacy<3.8.0,>=3.7.0->it-core-news-sm==3.7.0) (4.6.3)\n",
      "Requirement already satisfied: charset-normalizer<4,>=2 in /Users/Michel/Library/Python/3.11/lib/python/site-packages (from requests<3.0.0,>=2.13.0->spacy<3.8.0,>=3.7.0->it-core-news-sm==3.7.0) (3.3.2)\n",
      "Requirement already satisfied: idna<4,>=2.5 in /usr/local/lib/python3.11/site-packages (from requests<3.0.0,>=2.13.0->spacy<3.8.0,>=3.7.0->it-core-news-sm==3.7.0) (2.10)\n",
      "Requirement already satisfied: urllib3<3,>=1.21.1 in /usr/local/lib/python3.11/site-packages (from requests<3.0.0,>=2.13.0->spacy<3.8.0,>=3.7.0->it-core-news-sm==3.7.0) (1.26.16)\n",
      "Requirement already satisfied: certifi>=2017.4.17 in /usr/local/lib/python3.11/site-packages (from requests<3.0.0,>=2.13.0->spacy<3.8.0,>=3.7.0->it-core-news-sm==3.7.0) (2023.7.22)\n",
      "Requirement already satisfied: blis<0.8.0,>=0.7.8 in /usr/local/lib/python3.11/site-packages (from thinc<8.3.0,>=8.1.8->spacy<3.8.0,>=3.7.0->it-core-news-sm==3.7.0) (0.7.11)\n",
      "Requirement already satisfied: confection<1.0.0,>=0.0.1 in /usr/local/lib/python3.11/site-packages (from thinc<8.3.0,>=8.1.8->spacy<3.8.0,>=3.7.0->it-core-news-sm==3.7.0) (0.1.3)\n",
      "Requirement already satisfied: click<9.0.0,>=7.1.1 in /usr/local/lib/python3.11/site-packages (from typer<0.10.0,>=0.3.0->spacy<3.8.0,>=3.7.0->it-core-news-sm==3.7.0) (7.1.1)\n",
      "Requirement already satisfied: cloudpathlib<0.17.0,>=0.7.0 in /usr/local/lib/python3.11/site-packages (from weasel<0.4.0,>=0.1.0->spacy<3.8.0,>=3.7.0->it-core-news-sm==3.7.0) (0.16.0)\n",
      "Requirement already satisfied: MarkupSafe>=2.0 in /usr/local/lib/python3.11/site-packages (from jinja2->spacy<3.8.0,>=3.7.0->it-core-news-sm==3.7.0) (2.1.3)\n",
      "\n",
      "\u001b[1m[\u001b[0m\u001b[34;49mnotice\u001b[0m\u001b[1;39;49m]\u001b[0m\u001b[39;49m A new release of pip is available: \u001b[0m\u001b[31;49m23.3.1\u001b[0m\u001b[39;49m -> \u001b[0m\u001b[32;49m23.3.2\u001b[0m\n",
      "\u001b[1m[\u001b[0m\u001b[34;49mnotice\u001b[0m\u001b[1;39;49m]\u001b[0m\u001b[39;49m To update, run: \u001b[0m\u001b[32;49mpython3.11 -m pip install --upgrade pip\u001b[0m\n",
      "\u001b[38;5;2m✔ Download and installation successful\u001b[0m\n",
      "You can now load the package via spacy.load('it_core_news_sm')\n"
     ]
    }
   ],
   "source": [
    "import xml.etree.ElementTree as ET\n",
    "from sklearn.linear_model import SGDClassifier\n",
    "from sklearn.feature_extraction.text import CountVectorizer\n",
    "from sklearn.pipeline import Pipeline\n",
    "import matplotlib.pyplot as plt\n",
    "import numpy as np\n",
    "from sklearn.feature_extraction.text import TfidfVectorizer\n",
    "from sklearn.kernel_approximation import RBFSampler\n",
    "from sklearn.metrics import accuracy_score\n",
    "import spacy\n",
    "from spacy.lang.en.stop_words import STOP_WORDS as EN_STOP_WORDS\n",
    "from spacy.lang.fr.stop_words import STOP_WORDS as FR_STOP_WORDS\n",
    "from spacy.lang.it.stop_words import STOP_WORDS as IT_STOP_WORDS\n",
    "\n",
    "! python3.11 -m spacy download en_core_web_sm\n",
    "! python3.11 -m spacy download fr_core_news_sm\n",
    "! python3.11 -m spacy download it_core_news_sm\n"
   ]
  },
  {
   "cell_type": "markdown",
   "metadata": {},
   "source": [
    "# XML Reading function"
   ]
  },
  {
   "cell_type": "code",
   "execution_count": 22,
   "metadata": {},
   "outputs": [],
   "source": [
    "\n",
    "def parse_xml_to_dict(file_path):\n",
    "    tree = ET.parse(file_path)\n",
    "    root = tree.getroot()\n",
    "    \n",
    "    data_dict = {}\n",
    "    for doc in root.findall('doc'):\n",
    "        text_parts = []\n",
    "        for p in doc.find('texte').findall('p'):\n",
    "            if p.text:\n",
    "                text_parts.append(p.text)\n",
    "        \n",
    "        text = ' '.join(text_parts)\n",
    "        label = doc.find('.//PARTI').attrib['valeur']\n",
    "        doc_id = doc.attrib['id']\n",
    "        \n",
    "        data_dict[doc_id] = (text, label)\n",
    "    \n",
    "    return data_dict\n",
    "\n",
    "def lemmatize_and_remove_stopwords(text, language):\n",
    "    if language == 'english':\n",
    "        nlp = spacy.load('en_core_web_sm')\n",
    "        stop_words = EN_STOP_WORDS\n",
    "    elif language == 'french':\n",
    "        nlp = spacy.load('fr_core_news_sm')\n",
    "        stop_words = FR_STOP_WORDS\n",
    "    elif language == 'italian':\n",
    "        nlp = spacy.load('it_core_news_sm')\n",
    "        stop_words = IT_STOP_WORDS\n",
    "    else:\n",
    "        raise ValueError(\"Y a pas de langue comme ça :(\")\n",
    "\n",
    "    doc = nlp(text)\n",
    "    cleaned_tokens = [token.lemma_ for token in doc if token.text.lower() not in stop_words]\n",
    "    cleaned_text = ' '.join(cleaned_tokens)\n",
    "    return cleaned_text\n",
    "\n",
    "def nettoyer_dicos(dico, langue):\n",
    "    cleaned_dict = {}\n",
    "    for doc_id, (text, label) in dico.items():\n",
    "        cleaned_text = lemmatize_and_remove_stopwords(text, langue)\n",
    "        cleaned_dict[doc_id] = (cleaned_text, label)\n",
    "    return cleaned_dict\n",
    "\n",
    "train_en = parse_xml_to_dict(\"/Users/Michel/Desktop/TAL/MACHINE_LEARNING?/projet/deft09_parlement_appr.xml/deft09_parlement_appr_en.xml\")\n",
    "train_en = nettoyer_dicos(train_en, 'english')\n",
    "\n",
    "train_fr = parse_xml_to_dict(\"/Users/Michel/Desktop/TAL/MACHINE_LEARNING?/projet/deft09_parlement_appr.xml/deft09_parlement_appr_fr.xml\")\n",
    "train_fr = nettoyer_dicos(train_fr, 'french')\n",
    "\n",
    "train_it = parse_xml_to_dict(\"/Users/Michel/Desktop/TAL/MACHINE_LEARNING?/projet/deft09_parlement_appr.xml/deft09_parlement_appr_it.xml\")\n",
    "train_it = nettoyer_dicos(train_it, 'italian')\n"
   ]
  },
  {
   "cell_type": "code",
   "execution_count": 31,
   "metadata": {},
   "outputs": [
    {
     "data": {
      "text/plain": [
       "{'data_train_en': array([[\"herald ' stage opening postal service competition ' , Council want European Parliament approve directive constitute step away public postal service . policy national government european institution reactionary policy harmful user worker sector , face job loss . reject Council draft text , serve interest private company share profitable sector postal service leave public sector scrap incapable properly fulfil social need . reject compromise amendment design mask hypocrisy capitulation private interest . like reiterate postal service remain public service , access condition , location social situation . - tiere postal system , private profit gain user stop opening postal service private provider . \\xa0\",\n",
       "         'GUE-NGL'],\n",
       "        ['Mr President , evening 12 August , daughter buy camera home town Döbelin , population 28 000 . hour later , shop long exist . apply 1 425 home district 711 business . course , school , scientific establishment , , public infrastructure seriously affect , bluntly , agriculture stare ruin face . hear , 220 000 hectare flood provisional estimate flood damage farming enormous . Mrs Fiebiger quote figure . bad loss animal fodder , mainly result grain lose . government European Union give considerable sum money initial emergency aid . apart , Commissioner responsible , Franz Fischler , constant personal contact , express thank , order EUR 560 million pay form direct payment farmer , final figure high , accord information , region Mecklenburg Vorpommern include . hear , set - aside area provide , cheap grain animal fodder . request , question : EUR 560 million available 1 September ? hear person , dear Mr Fischler , music ear victim . mistake . national emergency , region affect effort deal , stretch financial limit . deal disaster short- , medium- long - term job region , national government European Union . action take quickly people affect urgent need financial support . ( applause ) \\xa0',\n",
       "         'PPE-DE'],\n",
       "        ['Mr President , amendment redundant , sentence 2 Amendment 24 make provision eventuality appeal law . reference Article 17 ( 3 ) directive final , vote alternative option . doubt mind amendment lapse .',\n",
       "         'PPE-DE'],\n",
       "        ...,\n",
       "        ['like start thank colleague Committee Budgets .   know present citizen Europe solid policy budget budgetary control ensure efficient transparent . consider European Parliament successful point budgetary negotiation . think leave budgetary negotiation strong Parliament , view important point . Council finally head thing european level enter negotiation Parliament additional commitment finance . matter issue year Kosovo , East Timor earthquake Turkey . know enlargement east issue . know conclusion Helsinki relation Turkey , relation enlargement east general , mean take soon later . need fall negotiation far budget concern Council rejoice fact European Parliament grow stature political awareness responsibility budgetary matter . shall ensure emphatically future proper implementation budget european level . \\xa0',\n",
       "         'Verts-ALE'],\n",
       "        ['Madam President , visit business people border Denmark Germany hear problem live border work . mean , , people try . actual fact , 1 000 people commute Danish / german border spite fact unemployment south border stand 12 % , north border low 6 % . obviously linguistic barrier take work border , different way tax social security system set great importance . course distinguish Denmark fund social security system border general taxation system , rest EU use earmark social security contribution . role play create problem experience . , way , mind Denmark obtain reform future payment well reflect individual responsibility common good cost social security arrangement clear , increase number earmark contribution . reform reduce problem pose danish social security system relation country ’ system . , course , present agenda , . concern simplify coordination social security arrangement Member States , great need simplify complex rule , year , progressively complex . like thank Mrs Lambert work . favour Parliament seek cooperate Council issue seek work tandem . delay reform unnecessarily . believe easy reform , , enlargement . , , focused ideal fail obtain workable solution right . \\xa0',\n",
       "         'ELDR'],\n",
       "        ['Madam President , like clear fellow mep , Amendment 9 , table Group European Liberal , Democrat Reform Party , adopt , issue send Committee Economic Monetary Affairs . correct method proceeding , time investigate legal consequence proposal . receive answer Council yesterday , state want express opinion proposal legal validity long proposal debate Council . simply believe wrong proceed vote Parliament legal evaluation available . find Council answer totally unacceptable . ask fellow mep support Amendment 9 obtain new reading committee . ( applause ) \\xa0',\n",
       "         'ELDR']], dtype='<U7207'),\n",
       " 'data_train_fr': array([[\"Monsieur président , preuve scepticisme comportement moraliste policier encourager carrémer délation permettre éviter cas fraude biais création instrument contrôle envahissant rapport personne . pouvoir certainement - groupe - - soutenir conviction rapport président Napolitano . modification règlement proposition décision répondre sérieusement préoccupation être soulever récemment m. dell' Alba être dernier exprimer : soumettre député contrôle excessif arbitraire . voir aucun raison retarder davantage décision . abus devoir produire , parlement européen député disposer large possibilité défendre . procédure interne transparent clair rendre évidemment chose facile . devoir confiance travail futur OLAF devoir faciliter action . manière pouvoir réagir crédible cas instrumentalisation . pouvoir faire preuve efficacité lorsque agir répondre genre situation parler aujourd'hui mme Theato m. Bösch .\",\n",
       "         'Verts-ALE'],\n",
       "        ['monsieur président , cher collègue , approche moment sombre année , réjouir évoquer été heure été . vouloir attirer attention rituel réglage montre répéter printemps automne utilité diviser opinion . être contacter éleveur bétail souligner important assurer bien-être vache laitier , fût -ce production laitier . sérénité ruminant troubler maladie vache fou , falloir accroître stress perturber rythme habituel . vache , changement rythme prendre jour . difficulté exister agriculture : automne , battage , heure indique humidité matinal devoir disparaître . surprise , nature conforme directive . rythme naturel animal , dynamisme homme , dépendre partiellement luminosité , perturbé , cause problème supplémentaire . considérer communiqué commission établir irréfutable nécessité heure été . estime maintien pratique reconsidérer vite . discutable heure être devoir terminer temps mois novembre . souvenir été refroidir Europe Nord , blanche neige . raisonnable mettre terme heure être fin septembr , mois début . croire totalement opposer heure être présente côté positif . vouloir demander commission évaluation critique nécessité maintien ultérieur heure été . pouvoir passer heure été , pourtant prêt renoncer temps estival chaud . heureusement , homme politique décider . \\xa0',\n",
       "         'PPE-DE'],\n",
       "        ['vouloir savoir Union européen , lumière information transmis , intervenir auprès nation unir fournir , minimum , réponse constructif statut venir peuple sahraoui . année , être promettre référendum . discussion mener impasse créer situation difficile beaucoup vivre camp réfugié . il Union européen , travers , Monsieur président , intervenir , lettre , auprès nation unir exprimer préoccupation important dossier \\xa0 ? \\xa0',\n",
       "         'Verts-ALE'],\n",
       "        ...,\n",
       "        ['Monsieur président , déclarer , nom collègue conservateur britannique - collègue , Lord Inglewood , travailler thème , exprimer - nom groupe adresse chaleureuse félicitation m. Manders excellent travail réaliser fil temps conciliation . force remarquer , membre commission juridique marché intérieur , réponse pratique pragmatique recevoir confirmer amplement décision commission devoir entreprendre travail \\xa0 - décision contester collègue commission \\xa0 - ; disposer proposition réalisable . toutefois , collègue souligner \\xa0 - accord conclure obliger porter regard avenir passé \\xa0 - , beaucoup faire établir clairement responsabilité attribuable organisation garantir , autorité dire compétent sein état membre , entreprise \\xa0 - procédé exploitation \\xa0 - impliquer activité susceptible porter atteinte environnement être pleinement conscienter responsabilité potentiel cadre présent directive . encourager commissaire \\xa0 - , espérer , laissera bon chose héritage suite année mandat \\xa0 - commencer inciter état membre , part , échanger pratique manière entendre mettre place autorité compétent manière entendre assurer répartition responsabilité agence environnemental existant état mettre place , part , établir type réseau partage meilleur pratique exister sein cadre réglementaire paneuropéen , énergie communication . voir processus démarrer suite communication organisation concerner pouvoir commencer . collègue signalé , présent directive proposer rythme lent . offrir état membre période généreux an long période révision règlement . , \\xa0 - croire \\xa0 - prévention objectif , réparation dommage occasionner , devoir agir suite aucun excuse retarder chose . féliciter accord conclure . début sûr \\xa0 - espérer cas \\xa0 - commissaire laisser structure place permettre mener projet jusqu’ conclusion . \\xa0',\n",
       "         'PPE-DE'],\n",
       "        ['Monsieur président , aide Albanie région limitrophe grand importance stabilité Europe . indispensable enraciner démocratie faire naître état droit . pouvoir oublier peuple détresse , devoir aider mieux . programme action Albanie région limitrophe accroître stabilité région . priorité donner moyen limiter flux migrant réfugié , manière améliorer condition vie région sorte avoir quitter foyer . Albanie Kosovo région régner paix . réfugié faire organiser , mettre sécurité danger . situation albanais Kosovo être difficile , soulager voir droit reconnaître . indispensable garantir droit minorité serbe rom Kosovo . restauration concorde groupe ethnique processus long haleine , absolument indispensable . pardon trouver base révolutionnaire construction avenir . croissance économique vaincre difficulté zone crise . injecter aide , falloir encourager activité entrepreneurial base esprit initiative . activité économique commune créer lien pacifique personne . argent , , bon calmant . programme communautaire CARDS joue rôle stratégique égard , administration efficace , rien fonctionner . devoir aider aider - . justement zone besoin assistance main paternel . partenaire Balkans , Union européen porte grand responsabilité avenir région . devoir jeter égoïsme ortie comprendre destinée lier . \\xa0',\n",
       "         'PPE-DE'],\n",
       "        [\"Monsieur président , rapport mme Zorba intelligent , groupe   concerner budget , préférer amendement 24 commission amendement 26 mme Zorba , spécifier montant bourse international marie curie . valoir certainement mieux spécifier 1,630 milliard euro destiner ressource humain conserver davantage souplesse . , état cause , rien contre bourse Marie curie . groupe déposer amendement clarification 25 , spécifier participation autoriser détenteur doctorat doctorat être obtenir an . imaginer mme Zorba convenir agir clarification raisonnable . souhaiter concentrer programme ' science société ' , essentiel rétablissement niveau nécessaire confiance compréhension mutuel communauté scientifique ensemble société civil . vital effort recherche européen soutenir largement durablement , permettre concrétiser totalité potentiel . assister lamentable effondrement relation , peut-être déclaration erroner part scientifique homme politique crise passer . - il davantage attribuable manque volonté , part milieu scientifique industriel , communiquer clairement systématiquement . espérer programme promouvoir communication nettement améliorer public beaucoup mieux informer objectif , résultat , application , réalisation , reconnaissance contrainte éthique environnemental utilité pratique effort scientifique . espérer , - , davantage jeune attirer carrière scientifique . grandemer besoin avenir . présenter vœu réussite m. Busquin équipe , programme . \\xa0\",\n",
       "         'PPE-DE']], dtype='<U9667'),\n",
       " 'data_train_it': array([['ringraziare risposta . naturalmente rere conto anche situazione , esistere disposizione legge applicabile riguardo . trattare commercio incredibilmente cinico , esportare rifiuto tossico causare grave malattia , il bambino zona , grado smaltire li . Domando pertanto : accadere , tentare esportare rifiuto condizione , norma esistente permetterebbero vietare tipo esportazione ? \\xa0',\n",
       "         'GUE-NGL'],\n",
       "        ['sebbene favorevole relazione sicurezza prodotto , importante oltrepassare misura . E’ essenziale il prodotto sicuro , dovere esagerare intervento estrema . il cittadino Europa preoccupato sicurezza bene consumo , ragione . presente relazione accogliere miglioramento di il attuale legislazione europeo sicurezza prodotto , parere direttiva dev’ applicare negozio caritatevolo , presenza fondamentale via principale britannica . E’ assurdo pensare negozio caritatevole medio fornire autorità competente informazione rischio su il origine prodotto oggetto secondo mano acquisire privato cittadino . dimenticare collega laburisto , il onorevole Whitehead , il introduzione emendamento prevedere deroga il negozio caritatevolo , dovere congratulare ci risultato . minaccia confronto negozio caritatevolo presentare semplicemente comprendere da il Europa continentale . riconoscere , emendamento laburista garantire il negozio caritatevolo subari pregiudizio esonerare da il applicazione direttiva . direttiva estremamente importante garantire livello elevato uniforme protezione consumatore , nonché funzionamento efficace mercato unico . totalmente favorevole a il idea applicare prodotto immesso mercato avvertenza bene formulato comprensibile merito possibile rischio . chiaro etichettatura migliore rassicurare il consumatore preoccupato sicurezza prodotto acquistare . fiducia di il opinione pubblico sicurezza prodotto acquistiamo duro colpo ultimo causa diverso notizia allarmistico , particolare riguardo giocattolo bambino . adottare atteggiamento porre piano sicurezza – dimostrare adottare tipo atteggiamento – recuperare fiducia di il opinione pubblico salvaguardare sicurezza bambino . \\xa0  - Relazione Lagendijk ( A5 - 0324/2000 ) \\xa0',\n",
       "         'PSE'],\n",
       "        ['signore presidente , signore Commissario , onorevole collega , desiderare congratulare mi il onorevole De Sarnez ottimo relazione volere ringraziare lo valido costruttivo collaborazione . Trattandosi programma ERASMUS MUNDUS , vitale di il Unione , risultare chiaro il importanza significato fattivo collaborazione commissione europeo commissione parlamentare . emendamento presentare proposta commissione completare soprattutto dotare base finanziario solido : 300 euro anziché il 200 proporre . il nuovo programma – soprattutto concernere il settore cultura , di il istruzione gioventù , rappresentare importante investimento – riproponere domanda chiave : andare prendere denaro , rubrica pertinente fondo disponibile ? trovare denaro , volere tagliare stanziamente destinare programma analogo rubrica ? domanda porre sede seduta plenario attendere risposta ; prevedere relazione di il onorevole Mauro su il e-LEARNING trovare affrontare problema . tradizionalmente parlamento attenere politica difendere il programma esistente . qualità legislatore , comprendere il importanza programma , autorità bilancio esso intendere stanziare denaro rubrica 3 . base attuale prospettiva finanziario , estendere 2006 , punto vista finanziario margine manovra prevedibile estremamente esiguo , ciò riflettere primo programma ERASMUS MUNDUS . , soprattutto contesto strategia Lisbona , cuore , il occasione buono mettere carta tavola : punto fermo volere fissare distribuzione risorsa disponibile , obiettivo giungere società competitivo , dinamico basare conoscenza – ripetere il ennesimo settimana Vertice Bruxelles ? situazione dovere battere ci ottenere importante programma uno adeguato dotazione finanziario , di il ordine 300 euro . lancio pertanto pressante appello , affinché voglia unire si considerare lungimiranza cammino aspettare . qualità membro commissione il bilancio dovere avvertire condizione attuale giungere ridistribuzione risorsa rubrica 3 garantire compatibilità il limite bilancio . logico ridistribuzione riguardare azione , contesto prospettiva finanziario , fissare quadro finanziario , quadro fissare , base procedura codecisione , 2007 . \\xa0',\n",
       "         'PPE-DE'],\n",
       "        ...,\n",
       "        ['signore presidente , signore Vicepresidente commissione , onorevole collega , Libro bianco , relazione di il onorevole Izquierdo Collado mostrare evidente chiarezza settore trasporto ci . giusto , arrivare punto , rendere omaggio di il attuale Commissario , breve riuscire smuovere alcuno cosa . potere stare procedare maniera corretto spedito . intervento precedente , relatore affermare essere ci punto politica trasporto di il Unione europeo mostrare lacuna : parere perdere battaglia sostenibilità . desiderare approfondire questione riferendomi aspetto specifico politica trasporto . paragrafo 75 seguente relazione , il onorevole Izquierdo Collado menzionare giustamente maniera esplicito tassazione strumento finanziamento . ovunque implicare il trasporto , punto chiave costo servizio trasporto . motivo necessario operare confronto dettagliato corretto costo effettivo vantaggio costo singolo trasporto . pomeriggio discutere sistema transito austriaco . dovere ripetere sottolineare ciò sentire : costare attraversare Alpi altro zona sensibile autocarro , migliore offerta infrastruttura servire . tunnel il Austria aiuto , passaggio strada economico . richiesta elaborare velocemente possibile alcuno proposta serio riguardare traffico zona particolarmente sensibile . \\xa0',\n",
       "         'PPE-DE'],\n",
       "        ['signore presidente , volere proseguire punto fermare onorevole Stenzel . Nutrivamo dubbio riguardo status candidato a il adesione , dato pertanto Turchia diritto beneficiare strumento finanziario . dire o . piacere regolamento chiarezza , Unione europea ultimo cinque , stipulazione accordo su il Unione doganale , bene adempiere il impegno finanziario confronto Turchia . trattare inizio accordere sostegno incondizionato . riguardare il programma , pure concordare collega Stenzel , volere ribadire sufficiente importo complessivo 177 prevedere in il ambito strategia preadesione . occorrere mettere disposizione Turchia nuovo fondo , affermare onorevole Kuckelkorn , ovvero risorsa supplementare coesione economico sociale . essere obiettivo comune motivo sosteniare , complesso , relazione onorevole Swoboda , sfaccettatura , né emendamento , tendenza . regolamento prevedere articolo 4 consentire , determinato condizione , sospensione strumento . articolo necessario compito Turchia rispondere domanda rivolgire fare registrare progresso rispetto struttura democratico base , ruolo militare sicurezza , a il affermazione diritto umano minoranza . Ritengo ultimo , rammarico , relativamente materia , anzi impressione il progresso registrare secondo metà 2000 vadano smorzandoso turco , , perdere coraggio compiere il passo necessario fermezza celerità . articolo 4 strumento usare piacimento , bensì prevedere riscontrare carenza veramente grave processo preadesione . sperare dovere applicare breve termine . punto mettere chiaro : adesione Turchia a il Unione Europea avvenire condizione porre Europa esclusivamente turco . finora opposto malinteso , diffusosi in il opinione pubblico turca , né livello politico né livello governativo . chiedere collega tribuna contribuire eliminare equivoco . adesione avvenire condizione . \\xa0',\n",
       "         'PPE-DE'],\n",
       "        ['signore presidente , intervenire breve commento . relazione associazione industriale responsabile inserire a il ordine settimana sapessare soprattutto contrariamente concordare parlamento autorità competente . il apprendere corso telefonata ricevere giornalista Times Londra , intendere rivolgere mi alcuno domanda proposito . chiedere potere succedere , il ufficio competente parlamento affermare consenso gruppo . rivolgere gruppo , il servizio parlamento . ciò gettare luce positivo parlamento . apprere – naturalmente gratitudine – relazione presentare consenso relatore ; gruppo sapere corso importante negoziato . pratica , , ciò avvenire maniera po’ trasparente efficiente .',\n",
       "         'PSE']], dtype='<U10005')}"
      ]
     },
     "execution_count": 31,
     "metadata": {},
     "output_type": "execute_result"
    }
   ],
   "source": [
    "data_train_en = np.array(list(train_en.values()))\n",
    "data_train_fr = np.array(list(train_fr.values()))\n",
    "data_train_it = np.array(list(train_it.values()))\n",
    "\n",
    "clean_train_dictionary = {\n",
    "    'data_train_en': data_train_en,\n",
    "    'data_train_fr': data_train_fr,\n",
    "    'data_train_it': data_train_it\n",
    "}\n",
    "\n",
    "clean_train_dictionary"
   ]
  },
  {
   "cell_type": "code",
   "execution_count": 32,
   "metadata": {},
   "outputs": [
    {
     "name": "stdout",
     "output_type": "stream",
     "text": [
      "dictionary saved successfully to file\n"
     ]
    }
   ],
   "source": [
    "import pickle\n",
    "\n",
    "# save dictionary to person_data.pkl file\n",
    "with open('clean_test_dictionary.pkl', 'wb') as fp:\n",
    "    pickle.dump(clean_test_dictionary, fp)\n",
    "    print('dictionary saved successfully to file')"
   ]
  },
  {
   "cell_type": "markdown",
   "metadata": {},
   "source": [
    "# Création d'un dico TEST (données avec une structure différente)"
   ]
  },
  {
   "cell_type": "code",
   "execution_count": 33,
   "metadata": {},
   "outputs": [],
   "source": [
    "def parse_xml_and_labels(xml_file, labels_file):\n",
    "    test_labels_dict = {}\n",
    "    with open(labels_file, 'r') as file:\n",
    "        for line in file:\n",
    "            parts = line.strip().split('\\t')\n",
    "            if len(parts) >= 2:\n",
    "                doc_id = parts[0]\n",
    "                label = parts[1]\n",
    "                test_labels_dict[doc_id] = label\n",
    "            #else:\n",
    "                #print('There is no class label for : ', line, str(labels_file.split('.')[-2]))\n",
    "    \n",
    "    def parse_xml_to_dict(file_path):\n",
    "        tree = ET.parse(file_path)\n",
    "        root = tree.getroot()\n",
    "        \n",
    "        data_dict = {}\n",
    "        for doc in root.findall('doc'):\n",
    "            text_parts = []\n",
    "            for p in doc.find('texte').findall('p'):\n",
    "                if p.text:\n",
    "                    text_parts.append(p.text)\n",
    "            \n",
    "            text = ' '.join(text_parts)\n",
    "            doc_id = doc.attrib['id']\n",
    "            \n",
    "            data_dict[doc_id] = text\n",
    "        \n",
    "        return data_dict\n",
    "    \n",
    "    test_dict = parse_xml_to_dict(xml_file)\n",
    "    final_test_data = {}\n",
    "    for doc_id, text in test_dict.items():\n",
    "        if doc_id in test_labels_dict:\n",
    "            label = test_labels_dict[doc_id]\n",
    "            final_test_data[doc_id] = (text, label)\n",
    "    \n",
    "    return final_test_data\n"
   ]
  },
  {
   "cell_type": "code",
   "execution_count": 34,
   "metadata": {},
   "outputs": [
    {
     "data": {
      "text/plain": [
       "12915"
      ]
     },
     "execution_count": 34,
     "metadata": {},
     "output_type": "execute_result"
    }
   ],
   "source": [
    "test_en = parse_xml_and_labels(\"/Users/Michel/Desktop/TAL/MACHINE_LEARNING?/projet/deft09_parlement_test.xml/deft09_parlement_test_en.xml\", \"/Users/Michel/Desktop/TAL/MACHINE_LEARNING?/projet/deft09_parlement_ref/deft09_parlement_ref_en.txt\")\n",
    "len(test_en)\n",
    "\n",
    "test_fr = parse_xml_and_labels(\"/Users/Michel/Desktop/TAL/MACHINE_LEARNING?/projet/deft09_parlement_test.xml/deft09_parlement_test_fr.xml\", \"/Users/Michel/Desktop/TAL/MACHINE_LEARNING?/projet/deft09_parlement_ref/deft09_parlement_ref_fr.txt\")\n",
    "len(test_fr)\n",
    "\n",
    "test_it = parse_xml_and_labels(\"/Users/Michel/Desktop/TAL/MACHINE_LEARNING?/projet/deft09_parlement_test.xml/deft09_parlement_test_it.xml\", \"/Users/Michel/Desktop/TAL/MACHINE_LEARNING?/projet/deft09_parlement_ref/deft09_parlement_ref_it.txt\")\n",
    "len(test_it)"
   ]
  },
  {
   "cell_type": "code",
   "execution_count": 78,
   "metadata": {},
   "outputs": [],
   "source": [
    "data_test_en = np.array(list(test_en.values()))\n",
    "data_test_fr = np.array(list(test_fr.values()))\n",
    "data_test_it = np.array(list(test_it.values()))\n",
    "\n",
    "test_dictionary = {\n",
    "    'data_test_en': data_test_en,\n",
    "    'data_test_fr': data_test_fr,\n",
    "    'data_test_it': data_test_it\n",
    "}"
   ]
  },
  {
   "cell_type": "markdown",
   "metadata": {},
   "source": [
    "# J'ai légèrement modifié le code précédent"
   ]
  },
  {
   "cell_type": "code",
   "execution_count": 48,
   "metadata": {},
   "outputs": [
    {
     "name": "stderr",
     "output_type": "stream",
     "text": [
      "Processing data_test_en: 100%|██████████| 12915/12915 [1:30:19<00:00,  2.38it/s, Processed=33.33%]\n",
      "Processing data_test_fr: 100%|██████████| 12915/12915 [3:34:18<00:00,  1.00it/s, Processed=66.67%] \n",
      "Processing data_test_it: 100%|██████████| 12915/12915 [1:24:08<00:00,  2.56it/s, Processed=100.00%]\n"
     ]
    }
   ],
   "source": [
    "from tqdm import tqdm \n",
    "\n",
    "def lemmatize_and_remove_stopwords(text, language):\n",
    "    if language == 'en':\n",
    "        nlp = spacy.load('en_core_web_sm')\n",
    "        stop_words = EN_STOP_WORDS\n",
    "    elif language == 'fr':\n",
    "        nlp = spacy.load('fr_core_news_sm')\n",
    "        stop_words = FR_STOP_WORDS\n",
    "    elif language == 'it':\n",
    "        nlp = spacy.load('it_core_news_sm')\n",
    "        stop_words = IT_STOP_WORDS\n",
    "    else:\n",
    "        raise ValueError(\"Pas de langue comme ça :(\")\n",
    "\n",
    "    doc = nlp(text)\n",
    "    cleaned_tokens = [token.lemma_ for token in doc if token.text.lower() not in stop_words]\n",
    "    cleaned_text = ' '.join(cleaned_tokens)\n",
    "    return cleaned_text\n",
    "\n",
    "\n",
    "def nettoyer_dictionnaire(dictionnaire):\n",
    "    total_docs = sum(len(array_data) for array_data in dictionnaire.values())\n",
    "    processed_docs = 0\n",
    "    cleaned_dict = {}\n",
    "    for key, array_data in dictionnaire.items():\n",
    "        lang = key.split('_')[-1]\n",
    "        with tqdm(total=len(array_data), desc=f'Processing {key}', position=0, leave=True) as pbar:\n",
    "            cleaned_array = []\n",
    "            for text, label in array_data:\n",
    "                cleaned_text = lemmatize_and_remove_stopwords(text.item(), lang)\n",
    "                cleaned_array.append([cleaned_text, label])\n",
    "                processed_docs += 1\n",
    "                progress_percent = processed_docs / total_docs * 100\n",
    "                pbar.set_postfix({'Processed': f'{progress_percent:.2f}%'})\n",
    "                pbar.update(1)\n",
    "            cleaned_dict[key] = np.array(cleaned_array, dtype=object)\n",
    "\n",
    "    return cleaned_dict\n",
    "\n",
    "clean_test_dictionary = nettoyer_dictionnaire(test_dictionary)\n"
   ]
  },
  {
   "cell_type": "code",
   "execution_count": 75,
   "metadata": {},
   "outputs": [
    {
     "name": "stdout",
     "output_type": "stream",
     "text": [
      "dictionary saved successfully to file\n"
     ]
    }
   ],
   "source": [
    "import pickle\n",
    "\n",
    "# save dictionary to person_data.pkl file\n",
    "with open('clean_test_dictionary.pkl', 'wb') as fp:\n",
    "    pickle.dump(clean_test_dictionary, fp)\n",
    "    print('dictionary saved successfully to file')"
   ]
  },
  {
   "cell_type": "markdown",
   "metadata": {},
   "source": [
    "# Algo SGDClassifier"
   ]
  },
  {
   "cell_type": "code",
   "execution_count": 77,
   "metadata": {},
   "outputs": [
    {
     "name": "stdout",
     "output_type": "stream",
     "text": [
      "Accuracy: 0.7628339140534263\n"
     ]
    }
   ],
   "source": [
    "\n",
    "combined_train_data = [clean_train_dictionary['data_train_en'], clean_train_dictionary['data_train_fr'], clean_train_dictionary['data_train_it']]\n",
    "combined_test_data = [clean_test_dictionary['data_test_en'], clean_test_dictionary['data_test_fr'], clean_test_dictionary['data_test_it']]\n",
    "\n",
    "# Dividing texts and labels \n",
    "train_texts, train_labels = [], []\n",
    "test_texts, test_labels = [], []\n",
    "\n",
    "for data in combined_train_data:\n",
    "    texts, labels = zip(*data)\n",
    "    train_texts.extend(texts)\n",
    "    train_labels.extend(labels)\n",
    "\n",
    "for data in combined_test_data:\n",
    "    texts, labels = zip(*data)\n",
    "    test_texts.extend(texts)\n",
    "    test_labels.extend(labels)\n",
    "    \n",
    "# Initializing the model SGDClassifier using the  Pipeline\n",
    "text_clf = Pipeline([\n",
    "    ('vect', CountVectorizer()),\n",
    "    ('clf', SGDClassifier(max_iter=1000, loss=\"modified_huber\", n_jobs=-1, learning_rate=\"optimal\")),\n",
    "])\n",
    "\n",
    "# Training the model\n",
    "text_clf.fit(train_texts, train_labels)\n",
    "\n",
    "accuracy = text_clf.score(test_texts, test_labels)\n",
    "print(f\"Accuracy: {accuracy}\")"
   ]
  },
  {
   "cell_type": "markdown",
   "metadata": {},
   "source": [
    "# Playing with the model"
   ]
  },
  {
   "cell_type": "code",
   "execution_count": 7,
   "metadata": {},
   "outputs": [
    {
     "name": "stdout",
     "output_type": "stream",
     "text": [
      "All unique labels: ['ELDR' 'GUE-NGL' 'PPE-DE' 'PSE' 'Verts-ALE']\n"
     ]
    }
   ],
   "source": [
    "# Getting all classes of the model\n",
    "unique_labels = text_clf.named_steps['clf'].classes_\n",
    "print(f\"All unique labels: {unique_labels}\")"
   ]
  },
  {
   "cell_type": "code",
   "execution_count": 8,
   "metadata": {},
   "outputs": [
    {
     "name": "stdout",
     "output_type": "stream",
     "text": [
      "Predicted label for the text: GUE-NGL\n"
     ]
    }
   ],
   "source": [
    "new_text = \"L'élection ne sera pas efficace si les participants ne sont pas informés, si le processus n'est pas transparent et si les normes éthiques ne sont pas respectées.\"\n",
    "predicted_label = text_clf.predict([new_text])\n",
    "\n",
    "print(f\"Predicted label for the text: {predicted_label[0]}\")"
   ]
  },
  {
   "cell_type": "code",
   "execution_count": 9,
   "metadata": {},
   "outputs": [
    {
     "data": {
      "image/png": "[encoded data removed]",
      "text/plain": [
       "<Figure size 800x600 with 1 Axes>"
      ]
     },
     "metadata": {},
     "output_type": "display_data"
    }
   ],
   "source": [
    "# Distribution of Documents Across Classes\n",
    "\n",
    "class_counts = {}\n",
    "for doc_tuple in combined_train_data.values():\n",
    "    label = doc_tuple[1]  \n",
    "    if label in class_counts:\n",
    "        class_counts[label] += 1\n",
    "    else:\n",
    "        class_counts[label] = 1\n",
    "\n",
    "plt.figure(figsize=(8, 6))\n",
    "plt.bar(class_counts.keys(), class_counts.values())\n",
    "plt.xlabel('Classes')\n",
    "plt.ylabel('Number of Documents')\n",
    "plt.title('Distribution of Documents Across Classes')\n",
    "plt.xticks(rotation=45)  \n",
    "plt.tight_layout()\n",
    "plt.show()\n"
   ]
  },
  {
   "cell_type": "markdown",
   "metadata": {},
   "source": [
    "# Kernal approximation"
   ]
  },
  {
   "cell_type": "code",
   "execution_count": 11,
   "metadata": {},
   "outputs": [
    {
     "name": "stdout",
     "output_type": "stream",
     "text": [
      "Accuracy: 0.330417279554076\n"
     ]
    }
   ],
   "source": [
    "train_texts, train_labels = zip(*combined_train_data.values())\n",
    "test_texts, test_labels = zip(*combined_test_data.values())\n",
    "\n",
    "text_clf = Pipeline([\n",
    "    ('vect', CountVectorizer()),\n",
    "    ('rbf_sampler', RBFSampler(gamma=1, random_state=1)),  # Applying RBFSampler for kernel approximation\n",
    "    ('clf', SGDClassifier(max_iter=1000)),\n",
    "])\n",
    "\n",
    "\n",
    "text_clf.fit(train_texts, train_labels)\n",
    "test_predictions = text_clf.predict(test_texts)\n",
    "\n",
    "accuracy = accuracy_score(test_labels, test_predictions)\n",
    "print(f\"Accuracy: {accuracy}\")\n",
    "\n"
   ]
  }
 ],
 "metadata": {
  "kernelspec": {
   "display_name": "Python 3",
   "language": "python",
   "name": "python3"
  },
  "language_info": {
   "codemirror_mode": {
    "name": "ipython",
    "version": 3
   },
   "file_extension": ".py",
   "mimetype": "text/x-python",
   "name": "python",
   "nbconvert_exporter": "python",
   "pygments_lexer": "ipython3",
   "version": "3.11.6"
  }
 },
 "nbformat": 4,
 "nbformat_minor": 2
}
