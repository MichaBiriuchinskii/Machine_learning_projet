{
 "cells": [
  {
   "cell_type": "code",
   "execution_count": 2,
   "metadata": {},
   "outputs": [],
   "source": [
    "from sklearn.linear_model import SGDClassifier\n",
    "from sklearn.pipeline import Pipeline\n",
    "from sklearn.feature_extraction.text import CountVectorizer\n",
    "from sklearn.feature_extraction.text import TfidfVectorizer\n",
    "from sklearn.kernel_approximation import Nystroem\n",
    "from sklearn.kernel_approximation import RBFSampler\n",
    "from sklearn.metrics import accuracy_score, precision_score, recall_score, f1_score, confusion_matrix\n",
    "import matplotlib.pyplot as plt\n",
    "import pickle"
   ]
  },
  {
   "cell_type": "code",
   "execution_count": 3,
   "metadata": {},
   "outputs": [],
   "source": [
    "# Read dictionary pkl file\n",
    "with open('pickle-sorties/clean_train_dictionary.pkl/clean_train_dictionary.pkl', 'rb') as fp:\n",
    "    clean_train_dictionary = pickle.load(fp)\n",
    "\n",
    "with open('pickle-sorties/clean_test_dictionary.pkl', 'rb') as fp:\n",
    "    clean_test_dictionary = pickle.load(fp)"
   ]
  },
  {
   "cell_type": "code",
   "execution_count": 4,
   "metadata": {},
   "outputs": [],
   "source": [
    "combined_train_data = [data for key, data in clean_train_dictionary.items()]\n",
    "combined_test_data = [data for key, data in clean_test_dictionary.items()]\n",
    "\n",
    "# Dividing texts and labels \n",
    "train_texts, train_labels = [], []\n",
    "test_texts, test_labels = [], []\n",
    "\n",
    "for data in combined_train_data:\n",
    "    texts, labels = zip(*data)\n",
    "    train_texts.extend(texts)\n",
    "    train_labels.extend(labels)\n",
    "\n",
    "for data in combined_test_data:\n",
    "    texts, labels = zip(*data)\n",
    "    test_texts.extend(texts)\n",
    "    test_labels.extend(labels)"
   ]
  },
  {
   "cell_type": "markdown",
   "metadata": {},
   "source": [
    "## Kernel Approximation Nystroem"
   ]
  },
  {
   "cell_type": "markdown",
   "metadata": {},
   "source": [
    "### Vectorization with CountVectorizer"
   ]
  },
  {
   "cell_type": "code",
   "execution_count": 7,
   "metadata": {},
   "outputs": [],
   "source": [
    "from sklearn import svm\n",
    "\n",
    "# Creating word embeddings using CountVectorizer\n",
    "vectorizer = CountVectorizer()\n",
    "\n",
    "X_train_vectorized = vectorizer.fit_transform(train_texts)\n",
    "\n",
    "# Mapping with Nystroem\n",
    "feature_map_nystroem = Nystroem(gamma=0.5, random_state=69, n_components=1000)\n",
    "\n",
    "X_train_transformed = feature_map_nystroem.fit_transform(X_train_vectorized)\n",
    "\n",
    "# Training SGD classifier with our transformed data\n",
    "clf = SGDClassifier(max_iter=10000)\n",
    "clf.fit(X_train_transformed, train_labels)\n",
    "\n",
    "# Transforming and mapping data\n",
    "X_test_vectorized = vectorizer.transform(test_texts)\n",
    "X_test_transformed = feature_map_nystroem.transform(X_test_vectorized)\n",
    "\n",
    "# Predictions\n",
    "prediction = clf.predict(X_test_transformed)"
   ]
  },
  {
   "cell_type": "markdown",
   "metadata": {},
   "source": [
    "#### Metrics CountVectorizer"
   ]
  },
  {
   "cell_type": "code",
   "execution_count": 8,
   "metadata": {},
   "outputs": [
    {
     "name": "stdout",
     "output_type": "stream",
     "text": [
      "Accuracy: 0.2888372693250742\n",
      "Precision: 0.7986688780415281\n",
      "Recall: 0.2888372693250742\n",
      "F1 Score: 0.13975047187095907\n"
     ]
    }
   ],
   "source": [
    "accuracy = accuracy_score(test_labels, prediction)\n",
    "print(f\"Accuracy: {accuracy}\")\n",
    "precision = precision_score(test_labels, prediction, average='weighted')\n",
    "print(f\"Precision: {precision}\")\n",
    "recall = recall_score(test_labels, prediction, average='weighted')\n",
    "print(f\"Recall: {recall}\")\n",
    "f1 = f1_score(test_labels, prediction, average='weighted')\n",
    "print(f\"F1 Score: {f1}\")"
   ]
  },
  {
   "cell_type": "markdown",
   "metadata": {},
   "source": [
    "###  Vectorization with TfidfVectorizer"
   ]
  },
  {
   "cell_type": "code",
   "execution_count": 9,
   "metadata": {},
   "outputs": [],
   "source": [
    "from sklearn.feature_extraction.text import TfidfVectorizer\n",
    "\n",
    "# Creating word embeddings using TfidfVectorizer\n",
    "vectorizer = TfidfVectorizer()\n",
    "\n",
    "# Mapping with Nystroem\n",
    "X_train_vectorized = vectorizer.fit_transform(train_texts)\n",
    "\n",
    "# Training SGD classifier with our transformed data\n",
    "feature_map_nystroem = Nystroem(gamma=0.5, random_state=69, n_components=1000)\n",
    "\n",
    "X_train_transformed = feature_map_nystroem.fit_transform(X_train_vectorized)\n",
    "\n",
    "# Training SGD classifier with our transformed data\n",
    "clf = SGDClassifier(max_iter=10000)\n",
    "clf.fit(X_train_transformed, train_labels)\n",
    "\n",
    "# Transforming and mapping data\n",
    "X_test_vectorized = vectorizer.transform(test_texts)\n",
    "X_test_transformed = feature_map_nystroem.transform(X_test_vectorized)\n",
    "\n",
    "# Predictions\n",
    "prediction = clf.predict(X_test_transformed)"
   ]
  },
  {
   "cell_type": "markdown",
   "metadata": {},
   "source": [
    "#### Metrics TfidVectorizer"
   ]
  },
  {
   "cell_type": "code",
   "execution_count": 10,
   "metadata": {},
   "outputs": [
    {
     "name": "stdout",
     "output_type": "stream",
     "text": [
      "Accuracy: 0.4158988256549232\n",
      "Precision: 0.44966332100699735\n",
      "Recall: 0.4158988256549232\n",
      "F1 Score: 0.3745857941638245\n"
     ]
    }
   ],
   "source": [
    "accuracy = accuracy_score(test_labels, prediction)\n",
    "print(f\"Accuracy: {accuracy}\")\n",
    "precision = precision_score(test_labels, prediction, average='weighted')\n",
    "print(f\"Precision: {precision}\")\n",
    "recall = recall_score(test_labels, prediction, average='weighted')\n",
    "print(f\"Recall: {recall}\")\n",
    "f1 = f1_score(test_labels, prediction, average='weighted')\n",
    "print(f\"F1 Score: {f1}\")"
   ]
  }
 ],
 "metadata": {
  "kernelspec": {
   "display_name": "Python 3",
   "language": "python",
   "name": "python3"
  },
  "language_info": {
   "codemirror_mode": {
    "name": "ipython",
    "version": 3
   },
   "file_extension": ".py",
   "mimetype": "text/x-python",
   "name": "python",
   "nbconvert_exporter": "python",
   "pygments_lexer": "ipython3",
   "version": "3.10.12"
  }
 },
 "nbformat": 4,
 "nbformat_minor": 2
}
