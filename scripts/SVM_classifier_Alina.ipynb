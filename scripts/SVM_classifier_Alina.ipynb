{
  "cells": [
    {
      "cell_type": "code",
      "execution_count": 12,
      "metadata": {
        "id": "t7_u-WUJ-b2V"
      },
      "outputs": [],
      "source": [
        "import xml.etree.ElementTree as ET\n",
        "from sklearn.feature_extraction.text import TfidfVectorizer\n",
        "from sklearn.svm import SVC\n",
        "from sklearn.metrics import accuracy_score, precision_score, recall_score, f1_score, confusion_matrix\n",
        "from sklearn.preprocessing import LabelEncoder\n",
        "from sklearn.model_selection import train_test_split\n",
        "import nltk\n",
        "from nltk.corpus import stopwords\n",
        "from nltk.tokenize import word_tokenize\n",
        "from nltk.stem import PorterStemmer"
      ]
    },
    {
      "cell_type": "code",
      "execution_count": 3,
      "metadata": {
        "colab": {
          "base_uri": "https://localhost:8080/"
        },
        "id": "4_CPiXsHCFPY",
        "outputId": "23ce0cb3-483e-4648-ad32-bfd80878646d"
      },
      "outputs": [
        {
          "name": "stderr",
          "output_type": "stream",
          "text": [
            "[nltk_data] Downloading package stopwords to /root/nltk_data...\n",
            "[nltk_data]   Unzipping corpora/stopwords.zip.\n",
            "[nltk_data] Downloading package punkt to /root/nltk_data...\n",
            "[nltk_data]   Unzipping tokenizers/punkt.zip.\n"
          ]
        },
        {
          "data": {
            "text/plain": [
              "True"
            ]
          },
          "execution_count": 3,
          "metadata": {},
          "output_type": "execute_result"
        }
      ],
      "source": [
        "nltk.download('stopwords')\n",
        "nltk.download('punkt')"
      ]
    },
    {
      "cell_type": "code",
      "execution_count": 4,
      "metadata": {
        "colab": {
          "base_uri": "https://localhost:8080/"
        },
        "id": "RbazaI2f-dW4",
        "outputId": "2a670309-101e-44a9-9fd5-b28f20e86d05"
      },
      "outputs": [
        {
          "name": "stdout",
          "output_type": "stream",
          "text": [
            "Mounted at /content/drive\n"
          ]
        }
      ],
      "source": [
        "# Load the Drive helper and mount\n",
        "from google.colab import drive\n",
        "\n",
        "# This will prompt for authorization.\n",
        "drive.mount('/content/drive')"
      ]
    },
    {
      "cell_type": "code",
      "execution_count": 15,
      "metadata": {
        "colab": {
          "base_uri": "https://localhost:8080/"
        },
        "id": "QyN52GPj_Sew",
        "outputId": "9decf0d4-ad76-4954-9df5-d4dd0d56aca8"
      },
      "outputs": [
        {
          "name": "stdout",
          "output_type": "stream",
          "text": [
            "'Corpus d_apprentissage'  'Corpus de test'  'Données de référence'\n"
          ]
        }
      ],
      "source": [
        "!ls \"/content/drive/My Drive/deft09\""
      ]
    },
    {
      "cell_type": "code",
      "execution_count": 5,
      "metadata": {
        "id": "7F571x_uCtan"
      },
      "outputs": [],
      "source": [
        "def preprocess(text):\n",
        "    words = word_tokenize(text)\n",
        "    words = [word.lower() for word in words]\n",
        "    stop_words = set(stopwords.words('english'))\n",
        "    words = [word for word in words if word not in stop_words]\n",
        "    stemmer = PorterStemmer()\n",
        "    words = [stemmer.stem(word) for word in words]\n",
        "\n",
        "    return ' '.join(words)"
      ]
    },
    {
      "cell_type": "code",
      "execution_count": 6,
      "metadata": {
        "id": "lv2Xw8AWCJ-D"
      },
      "outputs": [],
      "source": [
        "def parse_xml_train(file_path):\n",
        "    tree = ET.parse(file_path)\n",
        "    root = tree.getroot()\n",
        "\n",
        "    data = []\n",
        "    labels = []\n",
        "\n",
        "    for doc in root.findall('.//doc'):\n",
        "        party = doc.find('.//PARTI').attrib['valeur']\n",
        "        labels.append(party)\n",
        "        paragraphs = [p.text.strip() if p.text is not None else '' for p in doc.findall('.//texte/p')]\n",
        "        data.append(preprocess(' '.join(paragraphs)))\n",
        "\n",
        "    return data, labels"
      ]
    },
    {
      "cell_type": "code",
      "execution_count": 7,
      "metadata": {
        "id": "Q7nfGkiVCNSu"
      },
      "outputs": [],
      "source": [
        "def load_text_file(text_file_path):\n",
        "    with open(text_file_path, 'r') as file:\n",
        "        lines = file.readlines()\n",
        "\n",
        "    # Extract the mapping between document IDs and numerical party labels\n",
        "    party_id_mapping = {}\n",
        "    for line in lines:\n",
        "        parts = line.strip().split('\\t')\n",
        "        if len(parts) == 2:\n",
        "            doc_id, label = parts\n",
        "            party_id_mapping[int(doc_id)] = label\n",
        "\n",
        "    return party_id_mapping"
      ]
    },
    {
      "cell_type": "code",
      "execution_count": 8,
      "metadata": {
        "id": "EzhWnBsBCQiI"
      },
      "outputs": [],
      "source": [
        "def parse_xml_test(file_path_xml, file_path_txt):\n",
        "\n",
        "    party_info = load_text_file(file_path_txt)\n",
        "\n",
        "    doc_id_to_text = {}\n",
        "    party_labels = []\n",
        "    texts = []\n",
        "\n",
        "    tree = ET.parse(file_path_xml)\n",
        "    root = tree.getroot()\n",
        "\n",
        "\n",
        "    for doc in root.findall('.//doc'):\n",
        "        doc_id = doc.get('id')\n",
        "        text_data = ' '.join([p.text if p.text is not None else '' for p in doc.findall('.//texte/p')])\n",
        "        doc_id_to_text[int(doc_id)] = text_data\n",
        "\n",
        "    # Iterate through common keys in both dictionaries\n",
        "    common_keys = set(party_info.keys()) & set(doc_id_to_text.keys())\n",
        "    for doc_id in common_keys:\n",
        "        party_labels.append(party_info[doc_id])\n",
        "        texts.append(preprocess(doc_id_to_text[doc_id]))\n",
        "\n",
        "    return  texts, party_labels"
      ]
    },
    {
      "cell_type": "code",
      "execution_count": 9,
      "metadata": {
        "id": "QTSUn-1DCUaf"
      },
      "outputs": [],
      "source": [
        "train_texts, train_labels = parse_xml_train('/content/drive/My Drive/deft09/Corpus d_apprentissage/deft09_parlement_appr_en.xml')\n",
        "\n",
        "test_texts, test_labels = parse_xml_test('/content/drive/My Drive/deft09/Corpus de test/deft09_parlement_test_en.xml', '/content/drive/My Drive/deft09/Données de référence/deft09_parlement_ref_en.txt')"
      ]
    },
    {
      "cell_type": "code",
      "execution_count": 39,
      "metadata": {
        "id": "zHyuZaJBckqg"
      },
      "outputs": [],
      "source": [
        "# Trying to resize train-test corpora\n",
        "# Merging both corpora to be able to split them differently\n",
        "full_texts = train_texts + test_texts\n",
        "full_labels = train_labels + test_labels\n",
        "\n",
        "\n",
        "\n",
        "# Splitting the corpus\n",
        "X_train, X_test, y_train, y_test = train_test_split(full_texts, full_labels, test_size=0.2, random_state=42)\n"
      ]
    },
    {
      "cell_type": "code",
      "execution_count": 41,
      "metadata": {
        "colab": {
          "base_uri": "https://localhost:8080/"
        },
        "id": "jpVHQsgw6UVp",
        "outputId": "375839ff-8fcc-4cab-e5de-0c04a5536cde"
      },
      "outputs": [
        {
          "name": "stdout",
          "output_type": "stream",
          "text": [
            "25828 25828 6457 6457\n"
          ]
        }
      ],
      "source": [
        "print(len(X_train), len(y_train), len(X_test), len(y_test))"
      ]
    },
    {
      "cell_type": "code",
      "execution_count": 42,
      "metadata": {
        "id": "WsjxE8UiEQKj"
      },
      "outputs": [],
      "source": [
        "vectorizer = TfidfVectorizer()\n",
        "X_train = vectorizer.fit_transform(X_train)\n",
        "X_test = vectorizer.transform(X_test)"
      ]
    },
    {
      "cell_type": "code",
      "execution_count": 43,
      "metadata": {
        "id": "29-JvYZOERp4"
      },
      "outputs": [],
      "source": [
        "label_encoder = LabelEncoder()\n",
        "y_train = label_encoder.fit_transform(y_train)\n",
        "y_test = label_encoder.transform(y_test)"
      ]
    },
    {
      "cell_type": "code",
      "execution_count": 44,
      "metadata": {
        "colab": {
          "base_uri": "https://localhost:8080/"
        },
        "id": "Lih_jkNy_Vt1",
        "outputId": "a9eda40b-da06-4aad-88a0-abba14b20fff"
      },
      "outputs": [
        {
          "name": "stdout",
          "output_type": "stream",
          "text": [
            "(25828, 25788) (25828,)\n"
          ]
        }
      ],
      "source": [
        "# print(X_train.shape, y_train.shape)"
      ]
    },
    {
      "cell_type": "code",
      "execution_count": 45,
      "metadata": {
        "colab": {
          "base_uri": "https://localhost:8080/",
          "height": 74
        },
        "id": "v3dzyJKOEZte",
        "outputId": "f2c719e3-1fb9-4a15-b630-de789ede6626"
      },
      "outputs": [
        {
          "data": {
            "text/html": [
              "<style>#sk-container-id-1 {color: black;background-color: white;}#sk-container-id-1 pre{padding: 0;}#sk-container-id-1 div.sk-toggleable {background-color: white;}#sk-container-id-1 label.sk-toggleable__label {cursor: pointer;display: block;width: 100%;margin-bottom: 0;padding: 0.3em;box-sizing: border-box;text-align: center;}#sk-container-id-1 label.sk-toggleable__label-arrow:before {content: \"▸\";float: left;margin-right: 0.25em;color: #696969;}#sk-container-id-1 label.sk-toggleable__label-arrow:hover:before {color: black;}#sk-container-id-1 div.sk-estimator:hover label.sk-toggleable__label-arrow:before {color: black;}#sk-container-id-1 div.sk-toggleable__content {max-height: 0;max-width: 0;overflow: hidden;text-align: left;background-color: #f0f8ff;}#sk-container-id-1 div.sk-toggleable__content pre {margin: 0.2em;color: black;border-radius: 0.25em;background-color: #f0f8ff;}#sk-container-id-1 input.sk-toggleable__control:checked~div.sk-toggleable__content {max-height: 200px;max-width: 100%;overflow: auto;}#sk-container-id-1 input.sk-toggleable__control:checked~label.sk-toggleable__label-arrow:before {content: \"▾\";}#sk-container-id-1 div.sk-estimator input.sk-toggleable__control:checked~label.sk-toggleable__label {background-color: #d4ebff;}#sk-container-id-1 div.sk-label input.sk-toggleable__control:checked~label.sk-toggleable__label {background-color: #d4ebff;}#sk-container-id-1 input.sk-hidden--visually {border: 0;clip: rect(1px 1px 1px 1px);clip: rect(1px, 1px, 1px, 1px);height: 1px;margin: -1px;overflow: hidden;padding: 0;position: absolute;width: 1px;}#sk-container-id-1 div.sk-estimator {font-family: monospace;background-color: #f0f8ff;border: 1px dotted black;border-radius: 0.25em;box-sizing: border-box;margin-bottom: 0.5em;}#sk-container-id-1 div.sk-estimator:hover {background-color: #d4ebff;}#sk-container-id-1 div.sk-parallel-item::after {content: \"\";width: 100%;border-bottom: 1px solid gray;flex-grow: 1;}#sk-container-id-1 div.sk-label:hover label.sk-toggleable__label {background-color: #d4ebff;}#sk-container-id-1 div.sk-serial::before {content: \"\";position: absolute;border-left: 1px solid gray;box-sizing: border-box;top: 0;bottom: 0;left: 50%;z-index: 0;}#sk-container-id-1 div.sk-serial {display: flex;flex-direction: column;align-items: center;background-color: white;padding-right: 0.2em;padding-left: 0.2em;position: relative;}#sk-container-id-1 div.sk-item {position: relative;z-index: 1;}#sk-container-id-1 div.sk-parallel {display: flex;align-items: stretch;justify-content: center;background-color: white;position: relative;}#sk-container-id-1 div.sk-item::before, #sk-container-id-1 div.sk-parallel-item::before {content: \"\";position: absolute;border-left: 1px solid gray;box-sizing: border-box;top: 0;bottom: 0;left: 50%;z-index: -1;}#sk-container-id-1 div.sk-parallel-item {display: flex;flex-direction: column;z-index: 1;position: relative;background-color: white;}#sk-container-id-1 div.sk-parallel-item:first-child::after {align-self: flex-end;width: 50%;}#sk-container-id-1 div.sk-parallel-item:last-child::after {align-self: flex-start;width: 50%;}#sk-container-id-1 div.sk-parallel-item:only-child::after {width: 0;}#sk-container-id-1 div.sk-dashed-wrapped {border: 1px dashed gray;margin: 0 0.4em 0.5em 0.4em;box-sizing: border-box;padding-bottom: 0.4em;background-color: white;}#sk-container-id-1 div.sk-label label {font-family: monospace;font-weight: bold;display: inline-block;line-height: 1.2em;}#sk-container-id-1 div.sk-label-container {text-align: center;}#sk-container-id-1 div.sk-container {/* jupyter's `normalize.less` sets `[hidden] { display: none; }` but bootstrap.min.css set `[hidden] { display: none !important; }` so we also need the `!important` here to be able to override the default hidden behavior on the sphinx rendered scikit-learn.org. See: https://github.com/scikit-learn/scikit-learn/issues/21755 */display: inline-block !important;position: relative;}#sk-container-id-1 div.sk-text-repr-fallback {display: none;}</style><div id=\"sk-container-id-1\" class=\"sk-top-container\"><div class=\"sk-text-repr-fallback\"><pre>SVC()</pre><b>In a Jupyter environment, please rerun this cell to show the HTML representation or trust the notebook. <br />On GitHub, the HTML representation is unable to render, please try loading this page with nbviewer.org.</b></div><div class=\"sk-container\" hidden><div class=\"sk-item\"><div class=\"sk-estimator sk-toggleable\"><input class=\"sk-toggleable__control sk-hidden--visually\" id=\"sk-estimator-id-1\" type=\"checkbox\" checked><label for=\"sk-estimator-id-1\" class=\"sk-toggleable__label sk-toggleable__label-arrow\">SVC</label><div class=\"sk-toggleable__content\"><pre>SVC()</pre></div></div></div></div></div>"
            ],
            "text/plain": [
              "SVC()"
            ]
          },
          "execution_count": 45,
          "metadata": {},
          "output_type": "execute_result"
        }
      ],
      "source": [
        "clf = SVC() # définir les paramètres\n",
        "clf.fit(X_train, y_train)"
      ]
    },
    {
      "cell_type": "code",
      "execution_count": 46,
      "metadata": {
        "id": "MB1PCmzOEb8d"
      },
      "outputs": [],
      "source": [
        "y_test_pred = clf.predict(X_test)"
      ]
    },
    {
      "cell_type": "code",
      "execution_count": 27,
      "metadata": {
        "id": "6R4sbCzQbfCF"
      },
      "outputs": [],
      "source": [
        "# Decoding the party labels back to strings\n",
        "# predicted_party_labels = label_encoder.inverse_transform(y_test_pred)"
      ]
    },
    {
      "cell_type": "code",
      "execution_count": 47,
      "metadata": {
        "colab": {
          "base_uri": "https://localhost:8080/"
        },
        "id": "jZLQV0I0bwtT",
        "outputId": "c91c8e96-71ab-4870-81dc-1c5b60e57ab5"
      },
      "outputs": [
        {
          "name": "stdout",
          "output_type": "stream",
          "text": [
            "Test Accuracy: 0.6636208765680657\n",
            "Precision: 0.7010126459873917\n",
            "Recall: 0.6636208765680657\n",
            "F1 Score: 0.6547958237047097\n"
          ]
        }
      ],
      "source": [
        "accuracy = accuracy_score(y_test, y_test_pred)\n",
        "print(f\"Test Accuracy: {accuracy}\")\n",
        "precision = precision_score(y_test, y_test_pred, average='weighted')\n",
        "print(f\"Precision: {precision}\")\n",
        "recall = recall_score(y_test, y_test_pred, average='weighted')\n",
        "print(f\"Recall: {recall}\")\n",
        "f1 = f1_score(y_test, y_test_pred, average='weighted')\n",
        "print(f\"F1 Score: {f1}\")"
      ]
    },
    {
      "cell_type": "code",
      "execution_count": null,
      "metadata": {},
      "outputs": [],
      "source": [
        "# Decoding party labels \n",
        "predicted_labels = label_encoder.inverse_transform(y_test_pred)\n",
        "initial_labels = label_encoder.inverse_transform(y_test)"
      ]
    },
    {
      "cell_type": "code",
      "execution_count": null,
      "metadata": {},
      "outputs": [],
      "source": [
        "# Confusion Matrix\n",
        "import seaborn as sns\n",
        "import matplotlib.pyplot as plt\n",
        "\n",
        "cm = confusion_matrix(y_test, y_test_pred)\n",
        "plt.figure(figsize=(10, 8))\n",
        "sns.heatmap(cm, annot=True, fmt='d', cmap='Blues', xticklabels=label_encoder.classes_, yticklabels=label_encoder.classes_)\n",
        "plt.xlabel('Predicted')\n",
        "plt.ylabel('Actual')\n",
        "plt.title('Confusion Matrix')\n",
        "plt.show()"
      ]
    },
    {
      "cell_type": "markdown",
      "metadata": {},
      "source": [
        "### Expérience 1\n",
        "Kernel RBF, TfIdfVectorizer, corpus nettoyé"
      ]
    },
    {
      "cell_type": "markdown",
      "metadata": {},
      "source": [
        "<img src=\"../images/clean rbf tfidf.png\" width=430px height=400px />\n"
      ]
    },
    {
      "cell_type": "markdown",
      "metadata": {},
      "source": [
        "<img src=\"../images/clean (2) rbf tfidf.png\" width=350px height=180px />"
      ]
    },
    {
      "cell_type": "markdown",
      "metadata": {},
      "source": [
        "### Expérience 2 \n",
        "\n",
        "Kernel polynomial, TfIdfVectorizer, corpus nettoyé\n",
        "\n",
        "Cette combinaison aboutit aux scores les plus élevés."
      ]
    },
    {
      "cell_type": "markdown",
      "metadata": {},
      "source": [
        "<img src=\"../images/clean poly tfidf.png\" width=430px height=400 />"
      ]
    },
    {
      "cell_type": "markdown",
      "metadata": {},
      "source": [
        "<img src=\"../images/clean poly tfidf (2).png\" width=350px height=180px />"
      ]
    },
    {
      "cell_type": "markdown",
      "metadata": {},
      "source": [
        "### Expérience 3\n",
        "\n",
        "Kernel RBF, CountVectorizer, corpus nettoyé"
      ]
    },
    {
      "cell_type": "markdown",
      "metadata": {},
      "source": [
        "<img src=\"../images/clean rbf countvec.png\" width=430px height=400px />"
      ]
    },
    {
      "cell_type": "markdown",
      "metadata": {},
      "source": [
        "<img src=\"../images/clean rbf countvec (2).png\" width=350px height=180px />"
      ]
    },
    {
      "cell_type": "markdown",
      "metadata": {},
      "source": [
        "### Expérience 4\n",
        "\n",
        "Kernel sigmoïde, TfIdfVectorizer, corpus nettoyé \n",
        "\n",
        "Ce kernel est clairement le moins approprié pour nos données."
      ]
    },
    {
      "cell_type": "markdown",
      "metadata": {},
      "source": [
        "<img src=\"../images/sigmoid clean tfidf.png\" width=430px height=400px />"
      ]
    },
    {
      "cell_type": "markdown",
      "metadata": {},
      "source": [
        "<img src=\"../images/sigmoid clean tfidf (2).png\" width=350px height=180px />"
      ]
    },
    {
      "cell_type": "markdown",
      "metadata": {},
      "source": [
        "### Expérience 5\n",
        "\n",
        "Kernel polynomial, TfIdfVectorizer, corpus brut"
      ]
    },
    {
      "cell_type": "markdown",
      "metadata": {},
      "source": [
        "<img src=\"../images/tfidf poly brut.png\" width=430px height=200px />"
      ]
    }
  ],
  "metadata": {
    "colab": {
      "provenance": []
    },
    "kernelspec": {
      "display_name": "Python 3",
      "name": "python3"
    },
    "language_info": {
      "name": "python"
    }
  },
  "nbformat": 4,
  "nbformat_minor": 0
}
