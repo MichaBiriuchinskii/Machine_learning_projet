{
 "cells": [
  {
   "cell_type": "markdown",
   "id": "30da2828",
   "metadata": {},
   "source": [
    "### Test du modèle SGD \n",
    "\n",
    "J'ai passé le corpus anglais prétraité de la même façon que pour le modèle SVM dans le modèle SGD avec les paramètres fixés par Micha pour voir la différence.\n",
    "\n",
    "J'ai testé avec TfIdfVectorizer et avec CountVectorizer. Les scores sont très équilibrés dans le sens où il n'y a presque pas d'écart entre les différentes métriques. Au final, j'ai obtenu les mêmes résultats que Micha. Mes scores ont baissé avec TfIdfVectorizer. Je l'explique par le fait que la taille du corpus n'est pas suffisante pour un calcul de TF-IDF qui prend en compte l'importance de chaque terme. Ensemble avec l'algorithme SGD (qui lui aussi exige beaucoup de données) cela donne des résutlats insatisfaisants."
   ]
  },
  {
   "cell_type": "code",
   "execution_count": null,
   "id": "e9ec8b8e",
   "metadata": {},
   "outputs": [],
   "source": [
    "from sklearn.linear_model import SGDClassifier\n",
    "from sklearn.pipeline import Pipeline\n",
    "import xml.etree.ElementTree as ET\n",
    "from sklearn.feature_extraction.text import TfidfVectorizer, CountVectorizer\n",
    "from sklearn.svm import SVC\n",
    "from sklearn.metrics import accuracy_score, precision_score, recall_score, f1_score, confusion_matrix\n",
    "from sklearn.preprocessing import LabelEncoder\n",
    "from sklearn.model_selection import train_test_split\n",
    "import nltk\n",
    "from nltk.corpus import stopwords\n",
    "from nltk.tokenize import word_tokenize\n",
    "from nltk.stem import PorterStemmer\n",
    "from sklearn.metrics import classification_report"
   ]
  },
  {
   "cell_type": "code",
   "execution_count": 4,
   "id": "5097663f-cb4c-4a25-a116-3c09d61b857f",
   "metadata": {
    "execution": {
     "iopub.execute_input": "2024-01-05T12:01:33.320401Z",
     "iopub.status.busy": "2024-01-05T12:01:33.319674Z",
     "iopub.status.idle": "2024-01-05T12:01:33.676001Z",
     "shell.execute_reply": "2024-01-05T12:01:33.675370Z",
     "shell.execute_reply.started": "2024-01-05T12:01:33.320352Z"
    }
   },
   "outputs": [
    {
     "name": "stderr",
     "output_type": "stream",
     "text": [
      "[nltk_data] Downloading package stopwords to /home/jovyan/nltk_data...\n",
      "[nltk_data]   Package stopwords is already up-to-date!\n",
      "[nltk_data] Downloading package punkt to /home/jovyan/nltk_data...\n",
      "[nltk_data]   Package punkt is already up-to-date!\n"
     ]
    },
    {
     "data": {
      "text/plain": [
       "True"
      ]
     },
     "execution_count": 4,
     "metadata": {},
     "output_type": "execute_result"
    }
   ],
   "source": [
    "nltk.download('stopwords')\n",
    "nltk.download('punkt')"
   ]
  },
  {
   "cell_type": "code",
   "execution_count": 5,
   "id": "cbb0c21b-852f-4ba4-a8f5-8c2d2911b79f",
   "metadata": {
    "execution": {
     "iopub.execute_input": "2024-01-05T12:01:36.947911Z",
     "iopub.status.busy": "2024-01-05T12:01:36.947216Z",
     "iopub.status.idle": "2024-01-05T12:01:36.955377Z",
     "shell.execute_reply": "2024-01-05T12:01:36.954339Z",
     "shell.execute_reply.started": "2024-01-05T12:01:36.947864Z"
    }
   },
   "outputs": [],
   "source": [
    "def preprocess(text):\n",
    "    words = word_tokenize(text)\n",
    "    words = [word.lower() for word in words]\n",
    "    stop_words = set(stopwords.words('english'))\n",
    "    words = [word for word in words if word not in stop_words]\n",
    "    stemmer = PorterStemmer()\n",
    "    words = [stemmer.stem(word) for word in words]\n",
    "\n",
    "    return ' '.join(words)"
   ]
  },
  {
   "cell_type": "code",
   "execution_count": 6,
   "id": "31993d95-d578-44fa-8df0-80695761b328",
   "metadata": {
    "execution": {
     "iopub.execute_input": "2024-01-05T12:01:44.508896Z",
     "iopub.status.busy": "2024-01-05T12:01:44.508347Z",
     "iopub.status.idle": "2024-01-05T12:01:44.517669Z",
     "shell.execute_reply": "2024-01-05T12:01:44.516213Z",
     "shell.execute_reply.started": "2024-01-05T12:01:44.508849Z"
    }
   },
   "outputs": [],
   "source": [
    "def parse_xml_train(file_path):\n",
    "    tree = ET.parse(file_path)\n",
    "    root = tree.getroot()\n",
    "\n",
    "    data = []\n",
    "    labels = []\n",
    "\n",
    "    for doc in root.findall('.//doc'):\n",
    "        party = doc.find('.//PARTI').attrib['valeur']\n",
    "        labels.append(party)\n",
    "        paragraphs = [p.text.strip() if p.text is not None else '' for p in doc.findall('.//texte/p')]\n",
    "        data.append(preprocess(' '.join(paragraphs)))\n",
    "\n",
    "    return data, labels"
   ]
  },
  {
   "cell_type": "code",
   "execution_count": 7,
   "id": "1c3b8868-1528-4925-ba9d-c79d964f5e84",
   "metadata": {
    "execution": {
     "iopub.execute_input": "2024-01-05T12:01:56.069259Z",
     "iopub.status.busy": "2024-01-05T12:01:56.068735Z",
     "iopub.status.idle": "2024-01-05T12:01:56.076717Z",
     "shell.execute_reply": "2024-01-05T12:01:56.075568Z",
     "shell.execute_reply.started": "2024-01-05T12:01:56.069214Z"
    }
   },
   "outputs": [],
   "source": [
    "def load_text_file(text_file_path):\n",
    "    with open(text_file_path, 'r') as file:\n",
    "        lines = file.readlines()\n",
    "\n",
    "    # Extract the mapping between document IDs and numerical party labels\n",
    "    party_id_mapping = {}\n",
    "    for line in lines:\n",
    "        parts = line.strip().split('\\t')\n",
    "        if len(parts) == 2:\n",
    "            doc_id, label = parts\n",
    "            party_id_mapping[int(doc_id)] = label\n",
    "\n",
    "    return party_id_mapping"
   ]
  },
  {
   "cell_type": "code",
   "execution_count": 8,
   "id": "e2beee9b-426f-4ad1-b2ca-5efecd75e9c1",
   "metadata": {
    "execution": {
     "iopub.execute_input": "2024-01-05T12:02:05.212582Z",
     "iopub.status.busy": "2024-01-05T12:02:05.212039Z",
     "iopub.status.idle": "2024-01-05T12:02:05.221412Z",
     "shell.execute_reply": "2024-01-05T12:02:05.220487Z",
     "shell.execute_reply.started": "2024-01-05T12:02:05.212537Z"
    }
   },
   "outputs": [],
   "source": [
    "def parse_xml_test(file_path_xml, file_path_txt):\n",
    "\n",
    "    party_info = load_text_file(file_path_txt)\n",
    "\n",
    "    doc_id_to_text = {}\n",
    "    party_labels = []\n",
    "    texts = []\n",
    "\n",
    "    tree = ET.parse(file_path_xml)\n",
    "    root = tree.getroot()\n",
    "\n",
    "\n",
    "    for doc in root.findall('.//doc'):\n",
    "        doc_id = doc.get('id')\n",
    "        text_data = ' '.join([p.text if p.text is not None else '' for p in doc.findall('.//texte/p')])\n",
    "        doc_id_to_text[int(doc_id)] = text_data\n",
    "\n",
    "    # Iterate through common keys in both dictionaries\n",
    "    common_keys = set(party_info.keys()) & set(doc_id_to_text.keys())\n",
    "    for doc_id in common_keys:\n",
    "        party_labels.append(party_info[doc_id])\n",
    "        texts.append(preprocess(doc_id_to_text[doc_id]))\n",
    "\n",
    "    return  texts, party_labels"
   ]
  },
  {
   "cell_type": "code",
   "execution_count": 10,
   "id": "2d63883c-0312-4916-bb04-bc67ebcdf994",
   "metadata": {
    "execution": {
     "iopub.execute_input": "2024-01-05T12:02:51.788394Z",
     "iopub.status.busy": "2024-01-05T12:02:51.787827Z",
     "iopub.status.idle": "2024-01-05T12:04:36.860650Z",
     "shell.execute_reply": "2024-01-05T12:04:36.859950Z",
     "shell.execute_reply.started": "2024-01-05T12:02:51.788346Z"
    }
   },
   "outputs": [],
   "source": [
    "train_texts, train_labels = parse_xml_train('../../deft09_parlement_appr_en.xml')\n",
    "\n",
    "test_texts, test_labels = parse_xml_test('../../deft09_parlement_test_en.xml', '../../deft09_parlement_ref_en.txt')"
   ]
  },
  {
   "cell_type": "code",
   "execution_count": 29,
   "id": "392b7f2e-2d81-4255-b58e-4ce054ee5301",
   "metadata": {
    "execution": {
     "iopub.execute_input": "2024-01-05T12:30:17.094670Z",
     "iopub.status.busy": "2024-01-05T12:30:17.094118Z",
     "iopub.status.idle": "2024-01-05T12:30:20.043397Z",
     "shell.execute_reply": "2024-01-05T12:30:20.042155Z",
     "shell.execute_reply.started": "2024-01-05T12:30:17.094627Z"
    }
   },
   "outputs": [],
   "source": [
    "vectorizer = CountVectorizer()\n",
    "X_train = vectorizer.fit_transform(train_texts)\n",
    "X_test = vectorizer.transform(test_texts)"
   ]
  },
  {
   "cell_type": "code",
   "execution_count": 30,
   "id": "f9e92658-b4eb-4421-8f70-3cf9e996475e",
   "metadata": {
    "execution": {
     "iopub.execute_input": "2024-01-05T12:30:21.414690Z",
     "iopub.status.busy": "2024-01-05T12:30:21.414055Z",
     "iopub.status.idle": "2024-01-05T12:30:21.452111Z",
     "shell.execute_reply": "2024-01-05T12:30:21.451666Z",
     "shell.execute_reply.started": "2024-01-05T12:30:21.414645Z"
    }
   },
   "outputs": [],
   "source": [
    "label_encoder = LabelEncoder()\n",
    "y_train = label_encoder.fit_transform(train_labels)\n",
    "y_test = label_encoder.transform(test_labels)"
   ]
  },
  {
   "cell_type": "code",
   "execution_count": 31,
   "id": "ef07f9e3-9da7-43f6-b21e-27167c86be94",
   "metadata": {
    "execution": {
     "iopub.execute_input": "2024-01-05T12:30:23.565102Z",
     "iopub.status.busy": "2024-01-05T12:30:23.564582Z",
     "iopub.status.idle": "2024-01-05T12:30:24.940535Z",
     "shell.execute_reply": "2024-01-05T12:30:24.938831Z",
     "shell.execute_reply.started": "2024-01-05T12:30:23.565060Z"
    }
   },
   "outputs": [
    {
     "data": {
      "text/html": [
       "<style>#sk-container-id-4 {color: black;}#sk-container-id-4 pre{padding: 0;}#sk-container-id-4 div.sk-toggleable {background-color: white;}#sk-container-id-4 label.sk-toggleable__label {cursor: pointer;display: block;width: 100%;margin-bottom: 0;padding: 0.3em;box-sizing: border-box;text-align: center;}#sk-container-id-4 label.sk-toggleable__label-arrow:before {content: \"▸\";float: left;margin-right: 0.25em;color: #696969;}#sk-container-id-4 label.sk-toggleable__label-arrow:hover:before {color: black;}#sk-container-id-4 div.sk-estimator:hover label.sk-toggleable__label-arrow:before {color: black;}#sk-container-id-4 div.sk-toggleable__content {max-height: 0;max-width: 0;overflow: hidden;text-align: left;background-color: #f0f8ff;}#sk-container-id-4 div.sk-toggleable__content pre {margin: 0.2em;color: black;border-radius: 0.25em;background-color: #f0f8ff;}#sk-container-id-4 input.sk-toggleable__control:checked~div.sk-toggleable__content {max-height: 200px;max-width: 100%;overflow: auto;}#sk-container-id-4 input.sk-toggleable__control:checked~label.sk-toggleable__label-arrow:before {content: \"▾\";}#sk-container-id-4 div.sk-estimator input.sk-toggleable__control:checked~label.sk-toggleable__label {background-color: #d4ebff;}#sk-container-id-4 div.sk-label input.sk-toggleable__control:checked~label.sk-toggleable__label {background-color: #d4ebff;}#sk-container-id-4 input.sk-hidden--visually {border: 0;clip: rect(1px 1px 1px 1px);clip: rect(1px, 1px, 1px, 1px);height: 1px;margin: -1px;overflow: hidden;padding: 0;position: absolute;width: 1px;}#sk-container-id-4 div.sk-estimator {font-family: monospace;background-color: #f0f8ff;border: 1px dotted black;border-radius: 0.25em;box-sizing: border-box;margin-bottom: 0.5em;}#sk-container-id-4 div.sk-estimator:hover {background-color: #d4ebff;}#sk-container-id-4 div.sk-parallel-item::after {content: \"\";width: 100%;border-bottom: 1px solid gray;flex-grow: 1;}#sk-container-id-4 div.sk-label:hover label.sk-toggleable__label {background-color: #d4ebff;}#sk-container-id-4 div.sk-serial::before {content: \"\";position: absolute;border-left: 1px solid gray;box-sizing: border-box;top: 0;bottom: 0;left: 50%;z-index: 0;}#sk-container-id-4 div.sk-serial {display: flex;flex-direction: column;align-items: center;background-color: white;padding-right: 0.2em;padding-left: 0.2em;position: relative;}#sk-container-id-4 div.sk-item {position: relative;z-index: 1;}#sk-container-id-4 div.sk-parallel {display: flex;align-items: stretch;justify-content: center;background-color: white;position: relative;}#sk-container-id-4 div.sk-item::before, #sk-container-id-4 div.sk-parallel-item::before {content: \"\";position: absolute;border-left: 1px solid gray;box-sizing: border-box;top: 0;bottom: 0;left: 50%;z-index: -1;}#sk-container-id-4 div.sk-parallel-item {display: flex;flex-direction: column;z-index: 1;position: relative;background-color: white;}#sk-container-id-4 div.sk-parallel-item:first-child::after {align-self: flex-end;width: 50%;}#sk-container-id-4 div.sk-parallel-item:last-child::after {align-self: flex-start;width: 50%;}#sk-container-id-4 div.sk-parallel-item:only-child::after {width: 0;}#sk-container-id-4 div.sk-dashed-wrapped {border: 1px dashed gray;margin: 0 0.4em 0.5em 0.4em;box-sizing: border-box;padding-bottom: 0.4em;background-color: white;}#sk-container-id-4 div.sk-label label {font-family: monospace;font-weight: bold;display: inline-block;line-height: 1.2em;}#sk-container-id-4 div.sk-label-container {text-align: center;}#sk-container-id-4 div.sk-container {/* jupyter's `normalize.less` sets `[hidden] { display: none; }` but bootstrap.min.css set `[hidden] { display: none !important; }` so we also need the `!important` here to be able to override the default hidden behavior on the sphinx rendered scikit-learn.org. See: https://github.com/scikit-learn/scikit-learn/issues/21755 */display: inline-block !important;position: relative;}#sk-container-id-4 div.sk-text-repr-fallback {display: none;}</style><div id=\"sk-container-id-4\" class=\"sk-top-container\"><div class=\"sk-text-repr-fallback\"><pre>SGDClassifier(loss=&#x27;modified_huber&#x27;, n_jobs=-1, random_state=42)</pre><b>In a Jupyter environment, please rerun this cell to show the HTML representation or trust the notebook. <br />On GitHub, the HTML representation is unable to render, please try loading this page with nbviewer.org.</b></div><div class=\"sk-container\" hidden><div class=\"sk-item\"><div class=\"sk-estimator sk-toggleable\"><input class=\"sk-toggleable__control sk-hidden--visually\" id=\"sk-estimator-id-6\" type=\"checkbox\" checked><label for=\"sk-estimator-id-6\" class=\"sk-toggleable__label sk-toggleable__label-arrow\">SGDClassifier</label><div class=\"sk-toggleable__content\"><pre>SGDClassifier(loss=&#x27;modified_huber&#x27;, n_jobs=-1, random_state=42)</pre></div></div></div></div></div>"
      ],
      "text/plain": [
       "SGDClassifier(loss='modified_huber', n_jobs=-1, random_state=42)"
      ]
     },
     "execution_count": 31,
     "metadata": {},
     "output_type": "execute_result"
    }
   ],
   "source": [
    "clf = SGDClassifier(max_iter=1000, loss=\"modified_huber\", n_jobs=-1, learning_rate=\"optimal\", random_state=42)\n",
    "clf.fit(X_train, y_train)"
   ]
  },
  {
   "cell_type": "code",
   "execution_count": 32,
   "id": "74110c66-fb92-425a-be94-d184d5addcaf",
   "metadata": {
    "execution": {
     "iopub.execute_input": "2024-01-05T12:30:26.118543Z",
     "iopub.status.busy": "2024-01-05T12:30:26.117257Z",
     "iopub.status.idle": "2024-01-05T12:30:26.140310Z",
     "shell.execute_reply": "2024-01-05T12:30:26.139189Z",
     "shell.execute_reply.started": "2024-01-05T12:30:26.118442Z"
    }
   },
   "outputs": [],
   "source": [
    "y_test_pred = clf.predict(X_test)"
   ]
  },
  {
   "cell_type": "code",
   "execution_count": 33,
   "id": "852db959-df54-4056-ab2d-907913dea2ca",
   "metadata": {
    "execution": {
     "iopub.execute_input": "2024-01-05T12:30:27.823991Z",
     "iopub.status.busy": "2024-01-05T12:30:27.823421Z",
     "iopub.status.idle": "2024-01-05T12:30:27.838991Z",
     "shell.execute_reply": "2024-01-05T12:30:27.838409Z",
     "shell.execute_reply.started": "2024-01-05T12:30:27.823955Z"
    }
   },
   "outputs": [
    {
     "name": "stdout",
     "output_type": "stream",
     "text": [
      "Accuracy: 0.7454123112659699\n",
      "Precision: 0.7466279560368361\n",
      "Recall: 0.7454123112659699\n",
      "F1 Score: 0.7453506109356548\n"
     ]
    }
   ],
   "source": [
    "print(\"Accuracy:\", accuracy_score(y_test, y_test_pred))\n",
    "print(\"Precision:\", precision_score(y_test, y_test_pred, average='weighted'))\n",
    "print(\"Recall:\", recall_score(y_test, y_test_pred, average='weighted'))\n",
    "print(\"F1 Score:\", f1_score(y_test, y_test_pred, average='weighted'))"
   ]
  },
  {
   "cell_type": "markdown",
   "id": "a98c99a5",
   "metadata": {},
   "source": [
    "### CountVectorizer Results"
   ]
  },
  {
   "cell_type": "markdown",
   "id": "7f3f5931",
   "metadata": {},
   "source": [
    "<img src=\"../images/sgd countvec clean.png\" width=350px height=180px />"
   ]
  },
  {
   "cell_type": "markdown",
   "id": "d0d68693",
   "metadata": {},
   "source": [
    "### TfIdfVectorizer Results"
   ]
  },
  {
   "cell_type": "markdown",
   "id": "8aa827ac",
   "metadata": {},
   "source": [
    "<img src=\"../images/sgd clean tfidf (2) param micha.png\" width=350px height=180px />"
   ]
  }
 ],
 "metadata": {
  "kernelspec": {
   "display_name": "Python [conda env:jovyan-fuzzy_spacy]",
   "language": "python",
   "name": "conda-env-jovyan-fuzzy_spacy-py"
  },
  "language_info": {
   "codemirror_mode": {
    "name": "ipython",
    "version": 3
   },
   "file_extension": ".py",
   "mimetype": "text/x-python",
   "name": "python",
   "nbconvert_exporter": "python",
   "pygments_lexer": "ipython3",
   "version": "3.12.0"
  }
 },
 "nbformat": 4,
 "nbformat_minor": 5
}
