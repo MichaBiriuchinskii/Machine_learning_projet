{
 "cells": [
  {
   "cell_type": "code",
   "execution_count": 3,
   "metadata": {},
   "outputs": [],
   "source": [
    "from sklearn.metrics import accuracy_score, precision_score, recall_score, f1_score, confusion_matrix\n",
    "from sklearn.feature_extraction.text import CountVectorizer\n",
    "import matplotlib.pyplot as plt\n",
    "import numpy as np\n",
    "from sklearn.feature_extraction.text import TfidfVectorizer\n",
    "from sklearn.metrics import accuracy_score\n",
    "import pickle"
   ]
  },
  {
   "cell_type": "code",
   "execution_count": 4,
   "metadata": {},
   "outputs": [],
   "source": [
    "# Read dictionary pkl file\n",
    "with open('pickle-sorties/dirty_train_dictionary.pkl/dirty_train_dictionary.pkl', 'rb') as fp:\n",
    "    dirty_train_dictionary = pickle.load(fp)\n",
    "\n",
    "with open('pickle-sorties/dirty_test_dictionary.pkl/dirty_test_dictionary.pkl', 'rb') as fp:\n",
    "    dirty_test_dictionary = pickle.load(fp)"
   ]
  },
  {
   "cell_type": "code",
   "execution_count": 5,
   "metadata": {},
   "outputs": [],
   "source": [
    "combined_train_data = [data for key, data in dirty_train_dictionary.items()]\n",
    "combined_test_data = [data for key, data in dirty_test_dictionary.items()]\n",
    "\n",
    "# Dividing texts and labels \n",
    "train_texts, train_labels = [], []\n",
    "test_texts, test_labels = [], []\n",
    "\n",
    "for data in combined_train_data:\n",
    "    texts, labels = zip(*data)\n",
    "    train_texts.extend(texts)\n",
    "    train_labels.extend(labels)\n",
    "\n",
    "for data in combined_test_data:\n",
    "    texts, labels = zip(*data)\n",
    "    test_texts.extend(texts)\n",
    "    test_labels.extend(labels)"
   ]
  },
  {
   "cell_type": "code",
   "execution_count": 4,
   "metadata": {},
   "outputs": [
    {
     "name": "stdout",
     "output_type": "stream",
     "text": [
      "Précision du modèle : 0.7363272680345851\n",
      "\n",
      "Rapport de classification :\n",
      "               precision    recall  f1-score   support\n",
      "\n",
      "        ELDR       0.70      0.67      0.68      4017\n",
      "     GUE-NGL       0.75      0.74      0.74      5379\n",
      "      PPE-DE       0.76      0.78      0.77     13713\n",
      "         PSE       0.73      0.74      0.73     10881\n",
      "   Verts-ALE       0.69      0.67      0.68      4755\n",
      "\n",
      "    accuracy                           0.74     38745\n",
      "   macro avg       0.73      0.72      0.72     38745\n",
      "weighted avg       0.74      0.74      0.74     38745\n",
      "\n"
     ]
    }
   ],
   "source": [
    "from sklearn.tree import DecisionTreeClassifier\n",
    "from sklearn.metrics import classification_report\n",
    "\n",
    "# Vectorisation des textes (conversion en représentation numérique)\n",
    "vectorizer = CountVectorizer()\n",
    "X_train = vectorizer.fit_transform(train_texts)\n",
    "X_test = vectorizer.transform(test_texts)\n",
    "\n",
    "# Création du modèle d'arbre de décision\n",
    "clf = DecisionTreeClassifier()\n",
    "\n",
    "# Entraînement du modèle sur les données d'entraînement\n",
    "clf.fit(X_train, train_labels)\n",
    "\n",
    "# Prédictions sur les données de test\n",
    "predictions = clf.predict(X_test)\n",
    "\n",
    "# Évaluation des performances du modèle\n",
    "accuracy = accuracy_score(test_labels, predictions)\n",
    "report = classification_report(test_labels, predictions)\n",
    "\n",
    "# Affichage des résultats\n",
    "print(f\"Précision du modèle : {accuracy}\\n\")\n",
    "print(\"Rapport de classification :\\n\", report)"
   ]
  }
 ],
 "metadata": {
  "kernelspec": {
   "display_name": "Python 3",
   "language": "python",
   "name": "python3"
  },
  "language_info": {
   "codemirror_mode": {
    "name": "ipython",
    "version": 3
   },
   "file_extension": ".py",
   "mimetype": "text/x-python",
   "name": "python",
   "nbconvert_exporter": "python",
   "pygments_lexer": "ipython3",
   "version": "3.10.12"
  }
 },
 "nbformat": 4,
 "nbformat_minor": 2
}
